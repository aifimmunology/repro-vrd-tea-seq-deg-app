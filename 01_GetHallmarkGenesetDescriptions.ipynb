{
 "cells": [
  {
   "cell_type": "markdown",
   "id": "24e3f43e-ecc4-436c-9764-1c7332d4ff19",
   "metadata": {},
   "source": [
    "# Get Hallmark Geneset Descriptions"
   ]
  },
  {
   "cell_type": "markdown",
   "id": "1ad79fed-476a-48e2-be48-c66e72639d58",
   "metadata": {},
   "source": [
    "Save Hallmark geneset .gmt file (v7.5.1) to read into python  \n",
    "Obtain geneset descriptions via msigdbr "
   ]
  },
  {
   "cell_type": "markdown",
   "id": "8b19b180-147b-4f85-b7dd-d20a7a0fd390",
   "metadata": {},
   "source": [
    "## Set Up"
   ]
  },
  {
   "cell_type": "code",
   "execution_count": 1,
   "id": "3baf5e57-408b-4591-a79f-903965c28089",
   "metadata": {},
   "outputs": [],
   "source": [
    "# install.packages(\"msigdbr\")"
   ]
  },
  {
   "cell_type": "code",
   "execution_count": 1,
   "id": "235baa63-9789-4a2f-a4d9-7196bd4e9cbe",
   "metadata": {},
   "outputs": [
    {
     "name": "stderr",
     "output_type": "stream",
     "text": [
      "\n",
      "Attaching package: ‘dplyr’\n",
      "\n",
      "\n",
      "The following objects are masked from ‘package:stats’:\n",
      "\n",
      "    filter, lag\n",
      "\n",
      "\n",
      "The following objects are masked from ‘package:base’:\n",
      "\n",
      "    intersect, setdiff, setequal, union\n",
      "\n",
      "\n"
     ]
    }
   ],
   "source": [
    "library(msigdbr)\n",
    "library(dplyr)"
   ]
  },
  {
   "cell_type": "markdown",
   "id": "bf776325-c995-4601-811b-ff6324869746",
   "metadata": {},
   "source": [
    "## Download GMT file"
   ]
  },
  {
   "cell_type": "code",
   "execution_count": 2,
   "id": "2df8a42a-f5c0-4e9f-b12a-27b87f5cf230",
   "metadata": {},
   "outputs": [],
   "source": [
    "out_gmt <- './data/h.all.v7.5.1.symbols.gmt'"
   ]
  },
  {
   "cell_type": "code",
   "execution_count": 3,
   "id": "3c86373c-93dd-4dd9-9809-b9ea0bd7319d",
   "metadata": {},
   "outputs": [],
   "source": [
    "download.file(\n",
    "    url = 'https://data.broadinstitute.org/gsea-msigdb/msigdb/release/7.5.1/h.all.v7.5.1.symbols.gmt',\n",
    "    destfile = out_gmt)   "
   ]
  },
  {
   "cell_type": "markdown",
   "id": "50cf48cc-5fe7-442e-95a8-36169882a093",
   "metadata": {},
   "source": [
    "## Format Pathway Descriptions"
   ]
  },
  {
   "cell_type": "code",
   "execution_count": 4,
   "id": "4ada1331-f169-4aee-848b-2aeac13d1d9d",
   "metadata": {},
   "outputs": [],
   "source": [
    "hallmark_anno <- msigdbr(species = \"Homo sapiens\", category = \"H\")"
   ]
  },
  {
   "cell_type": "code",
   "execution_count": 5,
   "id": "b00e0dc7-03da-491e-9fd2-99c8e3ddaace",
   "metadata": {},
   "outputs": [
    {
     "data": {
      "text/html": [
       "<style>\n",
       ".list-inline {list-style: none; margin:0; padding: 0}\n",
       ".list-inline>li {display: inline-block}\n",
       ".list-inline>li:not(:last-child)::after {content: \"\\00b7\"; padding: 0 .5ex}\n",
       "</style>\n",
       "<ol class=list-inline><li>'gs_cat'</li><li>'gs_subcat'</li><li>'gs_name'</li><li>'gene_symbol'</li><li>'entrez_gene'</li><li>'ensembl_gene'</li><li>'human_gene_symbol'</li><li>'human_entrez_gene'</li><li>'human_ensembl_gene'</li><li>'gs_id'</li><li>'gs_pmid'</li><li>'gs_geoid'</li><li>'gs_exact_source'</li><li>'gs_url'</li><li>'gs_description'</li></ol>\n"
      ],
      "text/latex": [
       "\\begin{enumerate*}\n",
       "\\item 'gs\\_cat'\n",
       "\\item 'gs\\_subcat'\n",
       "\\item 'gs\\_name'\n",
       "\\item 'gene\\_symbol'\n",
       "\\item 'entrez\\_gene'\n",
       "\\item 'ensembl\\_gene'\n",
       "\\item 'human\\_gene\\_symbol'\n",
       "\\item 'human\\_entrez\\_gene'\n",
       "\\item 'human\\_ensembl\\_gene'\n",
       "\\item 'gs\\_id'\n",
       "\\item 'gs\\_pmid'\n",
       "\\item 'gs\\_geoid'\n",
       "\\item 'gs\\_exact\\_source'\n",
       "\\item 'gs\\_url'\n",
       "\\item 'gs\\_description'\n",
       "\\end{enumerate*}\n"
      ],
      "text/markdown": [
       "1. 'gs_cat'\n",
       "2. 'gs_subcat'\n",
       "3. 'gs_name'\n",
       "4. 'gene_symbol'\n",
       "5. 'entrez_gene'\n",
       "6. 'ensembl_gene'\n",
       "7. 'human_gene_symbol'\n",
       "8. 'human_entrez_gene'\n",
       "9. 'human_ensembl_gene'\n",
       "10. 'gs_id'\n",
       "11. 'gs_pmid'\n",
       "12. 'gs_geoid'\n",
       "13. 'gs_exact_source'\n",
       "14. 'gs_url'\n",
       "15. 'gs_description'\n",
       "\n",
       "\n"
      ],
      "text/plain": [
       " [1] \"gs_cat\"             \"gs_subcat\"          \"gs_name\"           \n",
       " [4] \"gene_symbol\"        \"entrez_gene\"        \"ensembl_gene\"      \n",
       " [7] \"human_gene_symbol\"  \"human_entrez_gene\"  \"human_ensembl_gene\"\n",
       "[10] \"gs_id\"              \"gs_pmid\"            \"gs_geoid\"          \n",
       "[13] \"gs_exact_source\"    \"gs_url\"             \"gs_description\"    "
      ]
     },
     "metadata": {},
     "output_type": "display_data"
    }
   ],
   "source": [
    "names(hallmark_anno)"
   ]
  },
  {
   "cell_type": "code",
   "execution_count": 6,
   "id": "5e6d519f-17d4-482d-9800-e5395e0599b5",
   "metadata": {},
   "outputs": [
    {
     "data": {
      "text/html": [
       "<table class=\"dataframe\">\n",
       "<caption>A tibble: 1 × 15</caption>\n",
       "<thead>\n",
       "\t<tr><th scope=col>gs_cat</th><th scope=col>gs_subcat</th><th scope=col>gs_name</th><th scope=col>gene_symbol</th><th scope=col>entrez_gene</th><th scope=col>ensembl_gene</th><th scope=col>human_gene_symbol</th><th scope=col>human_entrez_gene</th><th scope=col>human_ensembl_gene</th><th scope=col>gs_id</th><th scope=col>gs_pmid</th><th scope=col>gs_geoid</th><th scope=col>gs_exact_source</th><th scope=col>gs_url</th><th scope=col>gs_description</th></tr>\n",
       "\t<tr><th scope=col>&lt;chr&gt;</th><th scope=col>&lt;chr&gt;</th><th scope=col>&lt;chr&gt;</th><th scope=col>&lt;chr&gt;</th><th scope=col>&lt;int&gt;</th><th scope=col>&lt;chr&gt;</th><th scope=col>&lt;chr&gt;</th><th scope=col>&lt;int&gt;</th><th scope=col>&lt;chr&gt;</th><th scope=col>&lt;chr&gt;</th><th scope=col>&lt;chr&gt;</th><th scope=col>&lt;chr&gt;</th><th scope=col>&lt;chr&gt;</th><th scope=col>&lt;chr&gt;</th><th scope=col>&lt;chr&gt;</th></tr>\n",
       "</thead>\n",
       "<tbody>\n",
       "\t<tr><td>H</td><td></td><td>HALLMARK_ADIPOGENESIS</td><td>ABCA1</td><td>19</td><td>ENSG00000165029</td><td>ABCA1</td><td>19</td><td>ENSG00000165029</td><td>M5905</td><td>26771021</td><td></td><td></td><td></td><td>Genes up-regulated during adipocyte differentiation (adipogenesis).</td></tr>\n",
       "</tbody>\n",
       "</table>\n"
      ],
      "text/latex": [
       "A tibble: 1 × 15\n",
       "\\begin{tabular}{lllllllllllllll}\n",
       " gs\\_cat & gs\\_subcat & gs\\_name & gene\\_symbol & entrez\\_gene & ensembl\\_gene & human\\_gene\\_symbol & human\\_entrez\\_gene & human\\_ensembl\\_gene & gs\\_id & gs\\_pmid & gs\\_geoid & gs\\_exact\\_source & gs\\_url & gs\\_description\\\\\n",
       " <chr> & <chr> & <chr> & <chr> & <int> & <chr> & <chr> & <int> & <chr> & <chr> & <chr> & <chr> & <chr> & <chr> & <chr>\\\\\n",
       "\\hline\n",
       "\t H &  & HALLMARK\\_ADIPOGENESIS & ABCA1 & 19 & ENSG00000165029 & ABCA1 & 19 & ENSG00000165029 & M5905 & 26771021 &  &  &  & Genes up-regulated during adipocyte differentiation (adipogenesis).\\\\\n",
       "\\end{tabular}\n"
      ],
      "text/markdown": [
       "\n",
       "A tibble: 1 × 15\n",
       "\n",
       "| gs_cat &lt;chr&gt; | gs_subcat &lt;chr&gt; | gs_name &lt;chr&gt; | gene_symbol &lt;chr&gt; | entrez_gene &lt;int&gt; | ensembl_gene &lt;chr&gt; | human_gene_symbol &lt;chr&gt; | human_entrez_gene &lt;int&gt; | human_ensembl_gene &lt;chr&gt; | gs_id &lt;chr&gt; | gs_pmid &lt;chr&gt; | gs_geoid &lt;chr&gt; | gs_exact_source &lt;chr&gt; | gs_url &lt;chr&gt; | gs_description &lt;chr&gt; |\n",
       "|---|---|---|---|---|---|---|---|---|---|---|---|---|---|---|\n",
       "| H | <!----> | HALLMARK_ADIPOGENESIS | ABCA1 | 19 | ENSG00000165029 | ABCA1 | 19 | ENSG00000165029 | M5905 | 26771021 | <!----> | <!----> | <!----> | Genes up-regulated during adipocyte differentiation (adipogenesis). |\n",
       "\n"
      ],
      "text/plain": [
       "  gs_cat gs_subcat gs_name               gene_symbol entrez_gene\n",
       "1 H                HALLMARK_ADIPOGENESIS ABCA1       19         \n",
       "  ensembl_gene    human_gene_symbol human_entrez_gene human_ensembl_gene gs_id\n",
       "1 ENSG00000165029 ABCA1             19                ENSG00000165029    M5905\n",
       "  gs_pmid  gs_geoid gs_exact_source gs_url\n",
       "1 26771021                                \n",
       "  gs_description                                                     \n",
       "1 Genes up-regulated during adipocyte differentiation (adipogenesis)."
      ]
     },
     "metadata": {},
     "output_type": "display_data"
    }
   ],
   "source": [
    "head(hallmark_anno, 1)"
   ]
  },
  {
   "cell_type": "code",
   "execution_count": 7,
   "id": "6c2a5843-70d7-4f70-8f6f-32a0544e873b",
   "metadata": {},
   "outputs": [],
   "source": [
    "hallmark_desc <- hallmark_anno %>%\n",
    "    select('gs_name', 'gs_description') %>%\n",
    "    distinct()"
   ]
  },
  {
   "cell_type": "code",
   "execution_count": 8,
   "id": "15023f36-bc48-41d4-aba7-5780c8a91706",
   "metadata": {},
   "outputs": [
    {
     "data": {
      "text/html": [
       "<style>\n",
       ".list-inline {list-style: none; margin:0; padding: 0}\n",
       ".list-inline>li {display: inline-block}\n",
       ".list-inline>li:not(:last-child)::after {content: \"\\00b7\"; padding: 0 .5ex}\n",
       "</style>\n",
       "<ol class=list-inline><li>50</li><li>2</li></ol>\n"
      ],
      "text/latex": [
       "\\begin{enumerate*}\n",
       "\\item 50\n",
       "\\item 2\n",
       "\\end{enumerate*}\n"
      ],
      "text/markdown": [
       "1. 50\n",
       "2. 2\n",
       "\n",
       "\n"
      ],
      "text/plain": [
       "[1] 50  2"
      ]
     },
     "metadata": {},
     "output_type": "display_data"
    }
   ],
   "source": [
    "dim(hallmark_desc)"
   ]
  },
  {
   "cell_type": "code",
   "execution_count": 9,
   "id": "0a731ad9-12f4-4641-9e1e-ba49d2398336",
   "metadata": {},
   "outputs": [
    {
     "data": {
      "text/html": [
       "<table class=\"dataframe\">\n",
       "<caption>A tibble: 50 × 2</caption>\n",
       "<thead>\n",
       "\t<tr><th scope=col>gs_name</th><th scope=col>gs_description</th></tr>\n",
       "\t<tr><th scope=col>&lt;chr&gt;</th><th scope=col>&lt;chr&gt;</th></tr>\n",
       "</thead>\n",
       "<tbody>\n",
       "\t<tr><td>HALLMARK_ADIPOGENESIS                     </td><td>Genes up-regulated during adipocyte differentiation (adipogenesis).                                                                 </td></tr>\n",
       "\t<tr><td>HALLMARK_ALLOGRAFT_REJECTION              </td><td>Genes up-regulated during transplant rejection.                                                                                     </td></tr>\n",
       "\t<tr><td>HALLMARK_ANDROGEN_RESPONSE                </td><td>Genes defining response to androgens.                                                                                               </td></tr>\n",
       "\t<tr><td>HALLMARK_ANGIOGENESIS                     </td><td>Genes up-regulated during formation of blood vessels (angiogenesis).                                                                </td></tr>\n",
       "\t<tr><td>HALLMARK_APICAL_JUNCTION                  </td><td>Genes encoding components of apical junction complex.                                                                               </td></tr>\n",
       "\t<tr><td>HALLMARK_APICAL_SURFACE                   </td><td>Genes encoding proteins over-represented on the apical surface of epithelial cells, e.g., important for cell polarity (apical area).</td></tr>\n",
       "\t<tr><td>HALLMARK_APOPTOSIS                        </td><td>Genes mediating programmed cell death (apoptosis) by activation of caspases.                                                        </td></tr>\n",
       "\t<tr><td>HALLMARK_BILE_ACID_METABOLISM             </td><td>Genes involve in metabolism of bile acids and salts.                                                                                </td></tr>\n",
       "\t<tr><td>HALLMARK_CHOLESTEROL_HOMEOSTASIS          </td><td>Genes involved in cholesterol homeostasis.                                                                                          </td></tr>\n",
       "\t<tr><td>HALLMARK_COAGULATION                      </td><td>Genes encoding components of blood coagulation system; also up-regulated in platelets.                                              </td></tr>\n",
       "\t<tr><td>HALLMARK_COMPLEMENT                       </td><td>Genes encoding components of the complement system, which is part of the innate immune system.                                      </td></tr>\n",
       "\t<tr><td>HALLMARK_DNA_REPAIR                       </td><td>Genes involved in DNA repair.                                                                                                       </td></tr>\n",
       "\t<tr><td>HALLMARK_E2F_TARGETS                      </td><td>Genes encoding cell cycle related targets of E2F transcription factors.                                                             </td></tr>\n",
       "\t<tr><td>HALLMARK_EPITHELIAL_MESENCHYMAL_TRANSITION</td><td>Genes defining epithelial-mesenchymal transition, as in wound healing, fibrosis and metastasis.                                     </td></tr>\n",
       "\t<tr><td>HALLMARK_ESTROGEN_RESPONSE_EARLY          </td><td>Genes defining early response to estrogen.                                                                                          </td></tr>\n",
       "\t<tr><td>HALLMARK_ESTROGEN_RESPONSE_LATE           </td><td>Genes defining late response to estrogen.                                                                                           </td></tr>\n",
       "\t<tr><td>HALLMARK_FATTY_ACID_METABOLISM            </td><td>Genes encoding proteins involved in metabolism of fatty acids.                                                                      </td></tr>\n",
       "\t<tr><td>HALLMARK_G2M_CHECKPOINT                   </td><td>Genes involved in the G2/M checkpoint, as in progression through the cell division cycle.                                           </td></tr>\n",
       "\t<tr><td>HALLMARK_GLYCOLYSIS                       </td><td>Genes encoding proteins involved in glycolysis and gluconeogenesis.                                                                 </td></tr>\n",
       "\t<tr><td>HALLMARK_HEDGEHOG_SIGNALING               </td><td>Genes up-regulated by activation of hedgehog signaling.                                                                             </td></tr>\n",
       "\t<tr><td>HALLMARK_HEME_METABOLISM                  </td><td>Genes involved in metabolism of heme (a cofactor consisting of iron and porphyrin) and erythroblast differentiation.                </td></tr>\n",
       "\t<tr><td>HALLMARK_HYPOXIA                          </td><td>Genes up-regulated in response to low oxygen levels (hypoxia).                                                                      </td></tr>\n",
       "\t<tr><td>HALLMARK_IL2_STAT5_SIGNALING              </td><td>Genes up-regulated by STAT5 in response to IL2 stimulation.                                                                         </td></tr>\n",
       "\t<tr><td>HALLMARK_IL6_JAK_STAT3_SIGNALING          </td><td>Genes up-regulated by IL6 [GeneID=3569] via STAT3 [GeneID=6774], e.g., during acute phase response.                                 </td></tr>\n",
       "\t<tr><td>HALLMARK_INFLAMMATORY_RESPONSE            </td><td>Genes defining inflammatory response.                                                                                               </td></tr>\n",
       "\t<tr><td>HALLMARK_INTERFERON_ALPHA_RESPONSE        </td><td>Genes up-regulated in response to alpha interferon proteins.                                                                        </td></tr>\n",
       "\t<tr><td>HALLMARK_INTERFERON_GAMMA_RESPONSE        </td><td>Genes up-regulated in response to IFNG [GeneID=3458].                                                                               </td></tr>\n",
       "\t<tr><td>HALLMARK_KRAS_SIGNALING_DN                </td><td>Genes down-regulated by KRAS activation.                                                                                            </td></tr>\n",
       "\t<tr><td>HALLMARK_KRAS_SIGNALING_UP                </td><td>Genes up-regulated by KRAS activation.                                                                                              </td></tr>\n",
       "\t<tr><td>HALLMARK_MITOTIC_SPINDLE                  </td><td>Genes important for mitotic spindle assembly.                                                                                       </td></tr>\n",
       "\t<tr><td>HALLMARK_MTORC1_SIGNALING                 </td><td>Genes up-regulated through activation of mTORC1 complex.                                                                            </td></tr>\n",
       "\t<tr><td>HALLMARK_MYC_TARGETS_V1                   </td><td>A subgroup of genes regulated by MYC - version 1 (v1).                                                                              </td></tr>\n",
       "\t<tr><td>HALLMARK_MYC_TARGETS_V2                   </td><td>A subgroup of genes regulated by MYC - version 2 (v2).                                                                              </td></tr>\n",
       "\t<tr><td>HALLMARK_MYOGENESIS                       </td><td>Genes involved in development of skeletal muscle (myogenesis).                                                                      </td></tr>\n",
       "\t<tr><td>HALLMARK_NOTCH_SIGNALING                  </td><td>Genes up-regulated by activation of Notch signaling.                                                                                </td></tr>\n",
       "\t<tr><td>HALLMARK_OXIDATIVE_PHOSPHORYLATION        </td><td>Genes encoding proteins involved in oxidative phosphorylation.                                                                      </td></tr>\n",
       "\t<tr><td>HALLMARK_P53_PATHWAY                      </td><td>Genes involved in p53 pathways and networks.                                                                                        </td></tr>\n",
       "\t<tr><td>HALLMARK_PANCREAS_BETA_CELLS              </td><td>Genes specifically up-regulated in pancreatic beta cells.                                                                           </td></tr>\n",
       "\t<tr><td>HALLMARK_PEROXISOME                       </td><td>Genes encoding components of peroxisome.                                                                                            </td></tr>\n",
       "\t<tr><td>HALLMARK_PI3K_AKT_MTOR_SIGNALING          </td><td>Genes up-regulated by activation of the PI3K/AKT/mTOR pathway.                                                                      </td></tr>\n",
       "\t<tr><td>HALLMARK_PROTEIN_SECRETION                </td><td>Genes involved in protein secretion pathway.                                                                                        </td></tr>\n",
       "\t<tr><td>HALLMARK_REACTIVE_OXYGEN_SPECIES_PATHWAY  </td><td>Genes up-regulated by reactive oxigen species (ROS).                                                                                </td></tr>\n",
       "\t<tr><td>HALLMARK_SPERMATOGENESIS                  </td><td>Genes up-regulated during production of male gametes (sperm), as in spermatogenesis.                                                </td></tr>\n",
       "\t<tr><td>HALLMARK_TGF_BETA_SIGNALING               </td><td>Genes up-regulated in response to TGFB1 [GeneID=7040].                                                                              </td></tr>\n",
       "\t<tr><td>HALLMARK_TNFA_SIGNALING_VIA_NFKB          </td><td>Genes regulated by NF-kB in response to TNF [GeneID=7124].                                                                          </td></tr>\n",
       "\t<tr><td>HALLMARK_UNFOLDED_PROTEIN_RESPONSE        </td><td>Genes up-regulated during unfolded protein response, a cellular stress response related to the endoplasmic reticulum.               </td></tr>\n",
       "\t<tr><td>HALLMARK_UV_RESPONSE_DN                   </td><td>Genes down-regulated in response to ultraviolet (UV) radiation.                                                                     </td></tr>\n",
       "\t<tr><td>HALLMARK_UV_RESPONSE_UP                   </td><td>Genes up-regulated in response to ultraviolet (UV) radiation.                                                                       </td></tr>\n",
       "\t<tr><td>HALLMARK_WNT_BETA_CATENIN_SIGNALING       </td><td>Genes up-regulated by activation of WNT signaling through accumulation of beta catenin CTNNB1 [GeneID=1499].                        </td></tr>\n",
       "\t<tr><td>HALLMARK_XENOBIOTIC_METABOLISM            </td><td>Genes encoding proteins involved in processing of drugs and other xenobiotics.                                                      </td></tr>\n",
       "</tbody>\n",
       "</table>\n"
      ],
      "text/latex": [
       "A tibble: 50 × 2\n",
       "\\begin{tabular}{ll}\n",
       " gs\\_name & gs\\_description\\\\\n",
       " <chr> & <chr>\\\\\n",
       "\\hline\n",
       "\t HALLMARK\\_ADIPOGENESIS                      & Genes up-regulated during adipocyte differentiation (adipogenesis).                                                                 \\\\\n",
       "\t HALLMARK\\_ALLOGRAFT\\_REJECTION               & Genes up-regulated during transplant rejection.                                                                                     \\\\\n",
       "\t HALLMARK\\_ANDROGEN\\_RESPONSE                 & Genes defining response to androgens.                                                                                               \\\\\n",
       "\t HALLMARK\\_ANGIOGENESIS                      & Genes up-regulated during formation of blood vessels (angiogenesis).                                                                \\\\\n",
       "\t HALLMARK\\_APICAL\\_JUNCTION                   & Genes encoding components of apical junction complex.                                                                               \\\\\n",
       "\t HALLMARK\\_APICAL\\_SURFACE                    & Genes encoding proteins over-represented on the apical surface of epithelial cells, e.g., important for cell polarity (apical area).\\\\\n",
       "\t HALLMARK\\_APOPTOSIS                         & Genes mediating programmed cell death (apoptosis) by activation of caspases.                                                        \\\\\n",
       "\t HALLMARK\\_BILE\\_ACID\\_METABOLISM              & Genes involve in metabolism of bile acids and salts.                                                                                \\\\\n",
       "\t HALLMARK\\_CHOLESTEROL\\_HOMEOSTASIS           & Genes involved in cholesterol homeostasis.                                                                                          \\\\\n",
       "\t HALLMARK\\_COAGULATION                       & Genes encoding components of blood coagulation system; also up-regulated in platelets.                                              \\\\\n",
       "\t HALLMARK\\_COMPLEMENT                        & Genes encoding components of the complement system, which is part of the innate immune system.                                      \\\\\n",
       "\t HALLMARK\\_DNA\\_REPAIR                        & Genes involved in DNA repair.                                                                                                       \\\\\n",
       "\t HALLMARK\\_E2F\\_TARGETS                       & Genes encoding cell cycle related targets of E2F transcription factors.                                                             \\\\\n",
       "\t HALLMARK\\_EPITHELIAL\\_MESENCHYMAL\\_TRANSITION & Genes defining epithelial-mesenchymal transition, as in wound healing, fibrosis and metastasis.                                     \\\\\n",
       "\t HALLMARK\\_ESTROGEN\\_RESPONSE\\_EARLY           & Genes defining early response to estrogen.                                                                                          \\\\\n",
       "\t HALLMARK\\_ESTROGEN\\_RESPONSE\\_LATE            & Genes defining late response to estrogen.                                                                                           \\\\\n",
       "\t HALLMARK\\_FATTY\\_ACID\\_METABOLISM             & Genes encoding proteins involved in metabolism of fatty acids.                                                                      \\\\\n",
       "\t HALLMARK\\_G2M\\_CHECKPOINT                    & Genes involved in the G2/M checkpoint, as in progression through the cell division cycle.                                           \\\\\n",
       "\t HALLMARK\\_GLYCOLYSIS                        & Genes encoding proteins involved in glycolysis and gluconeogenesis.                                                                 \\\\\n",
       "\t HALLMARK\\_HEDGEHOG\\_SIGNALING                & Genes up-regulated by activation of hedgehog signaling.                                                                             \\\\\n",
       "\t HALLMARK\\_HEME\\_METABOLISM                   & Genes involved in metabolism of heme (a cofactor consisting of iron and porphyrin) and erythroblast differentiation.                \\\\\n",
       "\t HALLMARK\\_HYPOXIA                           & Genes up-regulated in response to low oxygen levels (hypoxia).                                                                      \\\\\n",
       "\t HALLMARK\\_IL2\\_STAT5\\_SIGNALING               & Genes up-regulated by STAT5 in response to IL2 stimulation.                                                                         \\\\\n",
       "\t HALLMARK\\_IL6\\_JAK\\_STAT3\\_SIGNALING           & Genes up-regulated by IL6 {[}GeneID=3569{]} via STAT3 {[}GeneID=6774{]}, e.g., during acute phase response.                                 \\\\\n",
       "\t HALLMARK\\_INFLAMMATORY\\_RESPONSE             & Genes defining inflammatory response.                                                                                               \\\\\n",
       "\t HALLMARK\\_INTERFERON\\_ALPHA\\_RESPONSE         & Genes up-regulated in response to alpha interferon proteins.                                                                        \\\\\n",
       "\t HALLMARK\\_INTERFERON\\_GAMMA\\_RESPONSE         & Genes up-regulated in response to IFNG {[}GeneID=3458{]}.                                                                               \\\\\n",
       "\t HALLMARK\\_KRAS\\_SIGNALING\\_DN                 & Genes down-regulated by KRAS activation.                                                                                            \\\\\n",
       "\t HALLMARK\\_KRAS\\_SIGNALING\\_UP                 & Genes up-regulated by KRAS activation.                                                                                              \\\\\n",
       "\t HALLMARK\\_MITOTIC\\_SPINDLE                   & Genes important for mitotic spindle assembly.                                                                                       \\\\\n",
       "\t HALLMARK\\_MTORC1\\_SIGNALING                  & Genes up-regulated through activation of mTORC1 complex.                                                                            \\\\\n",
       "\t HALLMARK\\_MYC\\_TARGETS\\_V1                    & A subgroup of genes regulated by MYC - version 1 (v1).                                                                              \\\\\n",
       "\t HALLMARK\\_MYC\\_TARGETS\\_V2                    & A subgroup of genes regulated by MYC - version 2 (v2).                                                                              \\\\\n",
       "\t HALLMARK\\_MYOGENESIS                        & Genes involved in development of skeletal muscle (myogenesis).                                                                      \\\\\n",
       "\t HALLMARK\\_NOTCH\\_SIGNALING                   & Genes up-regulated by activation of Notch signaling.                                                                                \\\\\n",
       "\t HALLMARK\\_OXIDATIVE\\_PHOSPHORYLATION         & Genes encoding proteins involved in oxidative phosphorylation.                                                                      \\\\\n",
       "\t HALLMARK\\_P53\\_PATHWAY                       & Genes involved in p53 pathways and networks.                                                                                        \\\\\n",
       "\t HALLMARK\\_PANCREAS\\_BETA\\_CELLS               & Genes specifically up-regulated in pancreatic beta cells.                                                                           \\\\\n",
       "\t HALLMARK\\_PEROXISOME                        & Genes encoding components of peroxisome.                                                                                            \\\\\n",
       "\t HALLMARK\\_PI3K\\_AKT\\_MTOR\\_SIGNALING           & Genes up-regulated by activation of the PI3K/AKT/mTOR pathway.                                                                      \\\\\n",
       "\t HALLMARK\\_PROTEIN\\_SECRETION                 & Genes involved in protein secretion pathway.                                                                                        \\\\\n",
       "\t HALLMARK\\_REACTIVE\\_OXYGEN\\_SPECIES\\_PATHWAY   & Genes up-regulated by reactive oxigen species (ROS).                                                                                \\\\\n",
       "\t HALLMARK\\_SPERMATOGENESIS                   & Genes up-regulated during production of male gametes (sperm), as in spermatogenesis.                                                \\\\\n",
       "\t HALLMARK\\_TGF\\_BETA\\_SIGNALING                & Genes up-regulated in response to TGFB1 {[}GeneID=7040{]}.                                                                              \\\\\n",
       "\t HALLMARK\\_TNFA\\_SIGNALING\\_VIA\\_NFKB           & Genes regulated by NF-kB in response to TNF {[}GeneID=7124{]}.                                                                          \\\\\n",
       "\t HALLMARK\\_UNFOLDED\\_PROTEIN\\_RESPONSE         & Genes up-regulated during unfolded protein response, a cellular stress response related to the endoplasmic reticulum.               \\\\\n",
       "\t HALLMARK\\_UV\\_RESPONSE\\_DN                    & Genes down-regulated in response to ultraviolet (UV) radiation.                                                                     \\\\\n",
       "\t HALLMARK\\_UV\\_RESPONSE\\_UP                    & Genes up-regulated in response to ultraviolet (UV) radiation.                                                                       \\\\\n",
       "\t HALLMARK\\_WNT\\_BETA\\_CATENIN\\_SIGNALING        & Genes up-regulated by activation of WNT signaling through accumulation of beta catenin CTNNB1 {[}GeneID=1499{]}.                        \\\\\n",
       "\t HALLMARK\\_XENOBIOTIC\\_METABOLISM             & Genes encoding proteins involved in processing of drugs and other xenobiotics.                                                      \\\\\n",
       "\\end{tabular}\n"
      ],
      "text/markdown": [
       "\n",
       "A tibble: 50 × 2\n",
       "\n",
       "| gs_name &lt;chr&gt; | gs_description &lt;chr&gt; |\n",
       "|---|---|\n",
       "| HALLMARK_ADIPOGENESIS                      | Genes up-regulated during adipocyte differentiation (adipogenesis).                                                                  |\n",
       "| HALLMARK_ALLOGRAFT_REJECTION               | Genes up-regulated during transplant rejection.                                                                                      |\n",
       "| HALLMARK_ANDROGEN_RESPONSE                 | Genes defining response to androgens.                                                                                                |\n",
       "| HALLMARK_ANGIOGENESIS                      | Genes up-regulated during formation of blood vessels (angiogenesis).                                                                 |\n",
       "| HALLMARK_APICAL_JUNCTION                   | Genes encoding components of apical junction complex.                                                                                |\n",
       "| HALLMARK_APICAL_SURFACE                    | Genes encoding proteins over-represented on the apical surface of epithelial cells, e.g., important for cell polarity (apical area). |\n",
       "| HALLMARK_APOPTOSIS                         | Genes mediating programmed cell death (apoptosis) by activation of caspases.                                                         |\n",
       "| HALLMARK_BILE_ACID_METABOLISM              | Genes involve in metabolism of bile acids and salts.                                                                                 |\n",
       "| HALLMARK_CHOLESTEROL_HOMEOSTASIS           | Genes involved in cholesterol homeostasis.                                                                                           |\n",
       "| HALLMARK_COAGULATION                       | Genes encoding components of blood coagulation system; also up-regulated in platelets.                                               |\n",
       "| HALLMARK_COMPLEMENT                        | Genes encoding components of the complement system, which is part of the innate immune system.                                       |\n",
       "| HALLMARK_DNA_REPAIR                        | Genes involved in DNA repair.                                                                                                        |\n",
       "| HALLMARK_E2F_TARGETS                       | Genes encoding cell cycle related targets of E2F transcription factors.                                                              |\n",
       "| HALLMARK_EPITHELIAL_MESENCHYMAL_TRANSITION | Genes defining epithelial-mesenchymal transition, as in wound healing, fibrosis and metastasis.                                      |\n",
       "| HALLMARK_ESTROGEN_RESPONSE_EARLY           | Genes defining early response to estrogen.                                                                                           |\n",
       "| HALLMARK_ESTROGEN_RESPONSE_LATE            | Genes defining late response to estrogen.                                                                                            |\n",
       "| HALLMARK_FATTY_ACID_METABOLISM             | Genes encoding proteins involved in metabolism of fatty acids.                                                                       |\n",
       "| HALLMARK_G2M_CHECKPOINT                    | Genes involved in the G2/M checkpoint, as in progression through the cell division cycle.                                            |\n",
       "| HALLMARK_GLYCOLYSIS                        | Genes encoding proteins involved in glycolysis and gluconeogenesis.                                                                  |\n",
       "| HALLMARK_HEDGEHOG_SIGNALING                | Genes up-regulated by activation of hedgehog signaling.                                                                              |\n",
       "| HALLMARK_HEME_METABOLISM                   | Genes involved in metabolism of heme (a cofactor consisting of iron and porphyrin) and erythroblast differentiation.                 |\n",
       "| HALLMARK_HYPOXIA                           | Genes up-regulated in response to low oxygen levels (hypoxia).                                                                       |\n",
       "| HALLMARK_IL2_STAT5_SIGNALING               | Genes up-regulated by STAT5 in response to IL2 stimulation.                                                                          |\n",
       "| HALLMARK_IL6_JAK_STAT3_SIGNALING           | Genes up-regulated by IL6 [GeneID=3569] via STAT3 [GeneID=6774], e.g., during acute phase response.                                  |\n",
       "| HALLMARK_INFLAMMATORY_RESPONSE             | Genes defining inflammatory response.                                                                                                |\n",
       "| HALLMARK_INTERFERON_ALPHA_RESPONSE         | Genes up-regulated in response to alpha interferon proteins.                                                                         |\n",
       "| HALLMARK_INTERFERON_GAMMA_RESPONSE         | Genes up-regulated in response to IFNG [GeneID=3458].                                                                                |\n",
       "| HALLMARK_KRAS_SIGNALING_DN                 | Genes down-regulated by KRAS activation.                                                                                             |\n",
       "| HALLMARK_KRAS_SIGNALING_UP                 | Genes up-regulated by KRAS activation.                                                                                               |\n",
       "| HALLMARK_MITOTIC_SPINDLE                   | Genes important for mitotic spindle assembly.                                                                                        |\n",
       "| HALLMARK_MTORC1_SIGNALING                  | Genes up-regulated through activation of mTORC1 complex.                                                                             |\n",
       "| HALLMARK_MYC_TARGETS_V1                    | A subgroup of genes regulated by MYC - version 1 (v1).                                                                               |\n",
       "| HALLMARK_MYC_TARGETS_V2                    | A subgroup of genes regulated by MYC - version 2 (v2).                                                                               |\n",
       "| HALLMARK_MYOGENESIS                        | Genes involved in development of skeletal muscle (myogenesis).                                                                       |\n",
       "| HALLMARK_NOTCH_SIGNALING                   | Genes up-regulated by activation of Notch signaling.                                                                                 |\n",
       "| HALLMARK_OXIDATIVE_PHOSPHORYLATION         | Genes encoding proteins involved in oxidative phosphorylation.                                                                       |\n",
       "| HALLMARK_P53_PATHWAY                       | Genes involved in p53 pathways and networks.                                                                                         |\n",
       "| HALLMARK_PANCREAS_BETA_CELLS               | Genes specifically up-regulated in pancreatic beta cells.                                                                            |\n",
       "| HALLMARK_PEROXISOME                        | Genes encoding components of peroxisome.                                                                                             |\n",
       "| HALLMARK_PI3K_AKT_MTOR_SIGNALING           | Genes up-regulated by activation of the PI3K/AKT/mTOR pathway.                                                                       |\n",
       "| HALLMARK_PROTEIN_SECRETION                 | Genes involved in protein secretion pathway.                                                                                         |\n",
       "| HALLMARK_REACTIVE_OXYGEN_SPECIES_PATHWAY   | Genes up-regulated by reactive oxigen species (ROS).                                                                                 |\n",
       "| HALLMARK_SPERMATOGENESIS                   | Genes up-regulated during production of male gametes (sperm), as in spermatogenesis.                                                 |\n",
       "| HALLMARK_TGF_BETA_SIGNALING                | Genes up-regulated in response to TGFB1 [GeneID=7040].                                                                               |\n",
       "| HALLMARK_TNFA_SIGNALING_VIA_NFKB           | Genes regulated by NF-kB in response to TNF [GeneID=7124].                                                                           |\n",
       "| HALLMARK_UNFOLDED_PROTEIN_RESPONSE         | Genes up-regulated during unfolded protein response, a cellular stress response related to the endoplasmic reticulum.                |\n",
       "| HALLMARK_UV_RESPONSE_DN                    | Genes down-regulated in response to ultraviolet (UV) radiation.                                                                      |\n",
       "| HALLMARK_UV_RESPONSE_UP                    | Genes up-regulated in response to ultraviolet (UV) radiation.                                                                        |\n",
       "| HALLMARK_WNT_BETA_CATENIN_SIGNALING        | Genes up-regulated by activation of WNT signaling through accumulation of beta catenin CTNNB1 [GeneID=1499].                         |\n",
       "| HALLMARK_XENOBIOTIC_METABOLISM             | Genes encoding proteins involved in processing of drugs and other xenobiotics.                                                       |\n",
       "\n"
      ],
      "text/plain": [
       "   gs_name                                   \n",
       "1  HALLMARK_ADIPOGENESIS                     \n",
       "2  HALLMARK_ALLOGRAFT_REJECTION              \n",
       "3  HALLMARK_ANDROGEN_RESPONSE                \n",
       "4  HALLMARK_ANGIOGENESIS                     \n",
       "5  HALLMARK_APICAL_JUNCTION                  \n",
       "6  HALLMARK_APICAL_SURFACE                   \n",
       "7  HALLMARK_APOPTOSIS                        \n",
       "8  HALLMARK_BILE_ACID_METABOLISM             \n",
       "9  HALLMARK_CHOLESTEROL_HOMEOSTASIS          \n",
       "10 HALLMARK_COAGULATION                      \n",
       "11 HALLMARK_COMPLEMENT                       \n",
       "12 HALLMARK_DNA_REPAIR                       \n",
       "13 HALLMARK_E2F_TARGETS                      \n",
       "14 HALLMARK_EPITHELIAL_MESENCHYMAL_TRANSITION\n",
       "15 HALLMARK_ESTROGEN_RESPONSE_EARLY          \n",
       "16 HALLMARK_ESTROGEN_RESPONSE_LATE           \n",
       "17 HALLMARK_FATTY_ACID_METABOLISM            \n",
       "18 HALLMARK_G2M_CHECKPOINT                   \n",
       "19 HALLMARK_GLYCOLYSIS                       \n",
       "20 HALLMARK_HEDGEHOG_SIGNALING               \n",
       "21 HALLMARK_HEME_METABOLISM                  \n",
       "22 HALLMARK_HYPOXIA                          \n",
       "23 HALLMARK_IL2_STAT5_SIGNALING              \n",
       "24 HALLMARK_IL6_JAK_STAT3_SIGNALING          \n",
       "25 HALLMARK_INFLAMMATORY_RESPONSE            \n",
       "26 HALLMARK_INTERFERON_ALPHA_RESPONSE        \n",
       "27 HALLMARK_INTERFERON_GAMMA_RESPONSE        \n",
       "28 HALLMARK_KRAS_SIGNALING_DN                \n",
       "29 HALLMARK_KRAS_SIGNALING_UP                \n",
       "30 HALLMARK_MITOTIC_SPINDLE                  \n",
       "31 HALLMARK_MTORC1_SIGNALING                 \n",
       "32 HALLMARK_MYC_TARGETS_V1                   \n",
       "33 HALLMARK_MYC_TARGETS_V2                   \n",
       "34 HALLMARK_MYOGENESIS                       \n",
       "35 HALLMARK_NOTCH_SIGNALING                  \n",
       "36 HALLMARK_OXIDATIVE_PHOSPHORYLATION        \n",
       "37 HALLMARK_P53_PATHWAY                      \n",
       "38 HALLMARK_PANCREAS_BETA_CELLS              \n",
       "39 HALLMARK_PEROXISOME                       \n",
       "40 HALLMARK_PI3K_AKT_MTOR_SIGNALING          \n",
       "41 HALLMARK_PROTEIN_SECRETION                \n",
       "42 HALLMARK_REACTIVE_OXYGEN_SPECIES_PATHWAY  \n",
       "43 HALLMARK_SPERMATOGENESIS                  \n",
       "44 HALLMARK_TGF_BETA_SIGNALING               \n",
       "45 HALLMARK_TNFA_SIGNALING_VIA_NFKB          \n",
       "46 HALLMARK_UNFOLDED_PROTEIN_RESPONSE        \n",
       "47 HALLMARK_UV_RESPONSE_DN                   \n",
       "48 HALLMARK_UV_RESPONSE_UP                   \n",
       "49 HALLMARK_WNT_BETA_CATENIN_SIGNALING       \n",
       "50 HALLMARK_XENOBIOTIC_METABOLISM            \n",
       "   gs_description                                                                                                                      \n",
       "1  Genes up-regulated during adipocyte differentiation (adipogenesis).                                                                 \n",
       "2  Genes up-regulated during transplant rejection.                                                                                     \n",
       "3  Genes defining response to androgens.                                                                                               \n",
       "4  Genes up-regulated during formation of blood vessels (angiogenesis).                                                                \n",
       "5  Genes encoding components of apical junction complex.                                                                               \n",
       "6  Genes encoding proteins over-represented on the apical surface of epithelial cells, e.g., important for cell polarity (apical area).\n",
       "7  Genes mediating programmed cell death (apoptosis) by activation of caspases.                                                        \n",
       "8  Genes involve in metabolism of bile acids and salts.                                                                                \n",
       "9  Genes involved in cholesterol homeostasis.                                                                                          \n",
       "10 Genes encoding components of blood coagulation system; also up-regulated in platelets.                                              \n",
       "11 Genes encoding components of the complement system, which is part of the innate immune system.                                      \n",
       "12 Genes involved in DNA repair.                                                                                                       \n",
       "13 Genes encoding cell cycle related targets of E2F transcription factors.                                                             \n",
       "14 Genes defining epithelial-mesenchymal transition, as in wound healing, fibrosis and metastasis.                                     \n",
       "15 Genes defining early response to estrogen.                                                                                          \n",
       "16 Genes defining late response to estrogen.                                                                                           \n",
       "17 Genes encoding proteins involved in metabolism of fatty acids.                                                                      \n",
       "18 Genes involved in the G2/M checkpoint, as in progression through the cell division cycle.                                           \n",
       "19 Genes encoding proteins involved in glycolysis and gluconeogenesis.                                                                 \n",
       "20 Genes up-regulated by activation of hedgehog signaling.                                                                             \n",
       "21 Genes involved in metabolism of heme (a cofactor consisting of iron and porphyrin) and erythroblast differentiation.                \n",
       "22 Genes up-regulated in response to low oxygen levels (hypoxia).                                                                      \n",
       "23 Genes up-regulated by STAT5 in response to IL2 stimulation.                                                                         \n",
       "24 Genes up-regulated by IL6 [GeneID=3569] via STAT3 [GeneID=6774], e.g., during acute phase response.                                 \n",
       "25 Genes defining inflammatory response.                                                                                               \n",
       "26 Genes up-regulated in response to alpha interferon proteins.                                                                        \n",
       "27 Genes up-regulated in response to IFNG [GeneID=3458].                                                                               \n",
       "28 Genes down-regulated by KRAS activation.                                                                                            \n",
       "29 Genes up-regulated by KRAS activation.                                                                                              \n",
       "30 Genes important for mitotic spindle assembly.                                                                                       \n",
       "31 Genes up-regulated through activation of mTORC1 complex.                                                                            \n",
       "32 A subgroup of genes regulated by MYC - version 1 (v1).                                                                              \n",
       "33 A subgroup of genes regulated by MYC - version 2 (v2).                                                                              \n",
       "34 Genes involved in development of skeletal muscle (myogenesis).                                                                      \n",
       "35 Genes up-regulated by activation of Notch signaling.                                                                                \n",
       "36 Genes encoding proteins involved in oxidative phosphorylation.                                                                      \n",
       "37 Genes involved in p53 pathways and networks.                                                                                        \n",
       "38 Genes specifically up-regulated in pancreatic beta cells.                                                                           \n",
       "39 Genes encoding components of peroxisome.                                                                                            \n",
       "40 Genes up-regulated by activation of the PI3K/AKT/mTOR pathway.                                                                      \n",
       "41 Genes involved in protein secretion pathway.                                                                                        \n",
       "42 Genes up-regulated by reactive oxigen species (ROS).                                                                                \n",
       "43 Genes up-regulated during production of male gametes (sperm), as in spermatogenesis.                                                \n",
       "44 Genes up-regulated in response to TGFB1 [GeneID=7040].                                                                              \n",
       "45 Genes regulated by NF-kB in response to TNF [GeneID=7124].                                                                          \n",
       "46 Genes up-regulated during unfolded protein response, a cellular stress response related to the endoplasmic reticulum.               \n",
       "47 Genes down-regulated in response to ultraviolet (UV) radiation.                                                                     \n",
       "48 Genes up-regulated in response to ultraviolet (UV) radiation.                                                                       \n",
       "49 Genes up-regulated by activation of WNT signaling through accumulation of beta catenin CTNNB1 [GeneID=1499].                        \n",
       "50 Genes encoding proteins involved in processing of drugs and other xenobiotics.                                                      "
      ]
     },
     "metadata": {},
     "output_type": "display_data"
    }
   ],
   "source": [
    "hallmark_desc"
   ]
  },
  {
   "cell_type": "code",
   "execution_count": 10,
   "id": "a06da337-df88-4de8-9a0a-d8cc05a7758f",
   "metadata": {},
   "outputs": [],
   "source": [
    "write.csv(hallmark_desc, \"data/hallmark_gs_descriptions.csv\")"
   ]
  },
  {
   "cell_type": "markdown",
   "id": "200d8bad-33aa-4c58-950b-5e8dc5e9a4cc",
   "metadata": {},
   "source": [
    "## QC Check GMT vs Query"
   ]
  },
  {
   "cell_type": "code",
   "execution_count": 11,
   "id": "190957b0-640b-4eee-b9b2-4013e892ef61",
   "metadata": {},
   "outputs": [],
   "source": [
    "# Read GMT file in as list of gene sets\n",
    "# Based on code form GSEABase\n",
    "readGMT <- function(fp, sep = \"\\t\", ...){\n",
    "    assertthat::assert_that(file.exists(fp), \n",
    "                           msg = sprintf(\"Could not locate input file %s\", fp))\n",
    "    assertthat::assert_that(grepl(\".gmt$\", fp),\n",
    "                            msg = sprintf(\"Expecting file extension '.gmt'. Input file: %s\", fp))\n",
    "    \n",
    "    lines <- strsplit(readLines(fp, ...), sep)\n",
    "    gene_list <- lapply(lines, function(line) {\n",
    "        unlist(line[-(1:2)])\n",
    "    })\n",
    "    names(gene_list) <- sapply(lines, \"[[\",1)\n",
    "    gene_list                    \n",
    "}"
   ]
  },
  {
   "cell_type": "code",
   "execution_count": 12,
   "id": "0dcb059c-00f2-4d3a-8cce-55b66089530d",
   "metadata": {},
   "outputs": [],
   "source": [
    "# read in all gene sets and merge into one master list\n",
    "hallmark_gs <- readGMT(out_gmt)"
   ]
  },
  {
   "cell_type": "code",
   "execution_count": 13,
   "id": "376684b2-65b2-4572-9bd3-c38148c41a00",
   "metadata": {},
   "outputs": [
    {
     "data": {
      "text/html": [
       "TRUE"
      ],
      "text/latex": [
       "TRUE"
      ],
      "text/markdown": [
       "TRUE"
      ],
      "text/plain": [
       "[1] TRUE"
      ]
     },
     "metadata": {},
     "output_type": "display_data"
    }
   ],
   "source": [
    "all(hallmark_desc$gs_name %in% names(hallmark_gs))"
   ]
  },
  {
   "cell_type": "code",
   "execution_count": 14,
   "id": "9ba15465-3f1a-442d-8a52-3059d6dc53b1",
   "metadata": {},
   "outputs": [
    {
     "data": {
      "text/html": [
       "TRUE"
      ],
      "text/latex": [
       "TRUE"
      ],
      "text/markdown": [
       "TRUE"
      ],
      "text/plain": [
       "[1] TRUE"
      ]
     },
     "metadata": {},
     "output_type": "display_data"
    }
   ],
   "source": [
    "all(names(hallmark_gs) %in% hallmark_desc$gs_name)"
   ]
  },
  {
   "cell_type": "markdown",
   "id": "4195effa-5c58-4bf8-9ca9-c391bae5eeec",
   "metadata": {},
   "source": [
    "## Session Info"
   ]
  },
  {
   "cell_type": "code",
   "execution_count": 15,
   "id": "ce84539c-4a84-469c-bd3b-174549f50fa7",
   "metadata": {
    "tags": []
   },
   "outputs": [
    {
     "data": {
      "text/plain": [
       "R version 4.3.1 (2023-06-16)\n",
       "Platform: x86_64-conda-linux-gnu (64-bit)\n",
       "Running under: Ubuntu 20.04.6 LTS\n",
       "\n",
       "Matrix products: default\n",
       "BLAS/LAPACK: /opt/conda/lib/libopenblasp-r0.3.24.so;  LAPACK version 3.11.0\n",
       "\n",
       "locale:\n",
       " [1] LC_CTYPE=C.UTF-8       LC_NUMERIC=C           LC_TIME=C.UTF-8       \n",
       " [4] LC_COLLATE=C.UTF-8     LC_MONETARY=C.UTF-8    LC_MESSAGES=C.UTF-8   \n",
       " [7] LC_PAPER=C.UTF-8       LC_NAME=C              LC_ADDRESS=C          \n",
       "[10] LC_TELEPHONE=C         LC_MEASUREMENT=C.UTF-8 LC_IDENTIFICATION=C   \n",
       "\n",
       "time zone: Etc/UTC\n",
       "tzcode source: system (glibc)\n",
       "\n",
       "attached base packages:\n",
       "[1] stats     graphics  grDevices utils     datasets  methods   base     \n",
       "\n",
       "other attached packages:\n",
       "[1] dplyr_1.1.3   msigdbr_7.5.1\n",
       "\n",
       "loaded via a namespace (and not attached):\n",
       " [1] crayon_1.5.2     vctrs_0.6.4      cli_3.6.1        rlang_1.1.2     \n",
       " [5] generics_0.1.3   assertthat_0.2.1 jsonlite_1.8.7   glue_1.6.2      \n",
       " [9] htmltools_0.5.7  IRdisplay_1.1    IRkernel_1.3.2   fansi_1.0.5     \n",
       "[13] babelgene_22.9   evaluate_0.23    tibble_3.2.1     fastmap_1.1.1   \n",
       "[17] base64enc_0.1-3  lifecycle_1.0.4  compiler_4.3.1   pkgconfig_2.0.3 \n",
       "[21] pbdZMQ_0.3-10    digest_0.6.33    R6_2.5.1         repr_1.1.6.9000 \n",
       "[25] tidyselect_1.2.0 utf8_1.2.4       pillar_1.9.0     magrittr_2.0.3  \n",
       "[29] withr_2.5.2      uuid_1.1-1       tools_4.3.1     "
      ]
     },
     "metadata": {},
     "output_type": "display_data"
    }
   ],
   "source": [
    "sessionInfo()"
   ]
  },
  {
   "cell_type": "code",
   "execution_count": null,
   "id": "c46f2970-0f56-48bf-8b70-f0a0f08d1d50",
   "metadata": {},
   "outputs": [],
   "source": []
  }
 ],
 "metadata": {
  "kernelspec": {
   "display_name": "R 4",
   "language": "R",
   "name": "ir4"
  },
  "language_info": {
   "codemirror_mode": "r",
   "file_extension": ".r",
   "mimetype": "text/x-r-source",
   "name": "R",
   "pygments_lexer": "r",
   "version": "4.3.1"
  }
 },
 "nbformat": 4,
 "nbformat_minor": 5
}
