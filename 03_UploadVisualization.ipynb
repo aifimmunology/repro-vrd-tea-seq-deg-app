{
 "cells": [
  {
   "cell_type": "markdown",
   "id": "53258ba0-6061-4721-92c4-4e4ae6dbda0f",
   "metadata": {},
   "source": [
    "# Save app to HISE"
   ]
  },
  {
   "cell_type": "markdown",
   "id": "18e81b48-c694-43af-bb0d-be762dccbc6f",
   "metadata": {},
   "source": [
    "Save app back to HISE study space\n",
    "\n",
    "Ensure python version is 3.9 or above for sklearn compatibility with pip-tools"
   ]
  },
  {
   "cell_type": "markdown",
   "id": "ac72a42a-e331-4d6d-96eb-e09014b70eb2",
   "metadata": {},
   "source": [
    "## Set Up"
   ]
  },
  {
   "cell_type": "code",
   "execution_count": 1,
   "id": "33d10b6c-2790-4c25-991e-24c4a593d233",
   "metadata": {
    "tags": []
   },
   "outputs": [
    {
     "name": "stdout",
     "output_type": "stream",
     "text": [
      "Python 3.10.13\n"
     ]
    }
   ],
   "source": [
    "!python --version"
   ]
  },
  {
   "cell_type": "code",
   "execution_count": 2,
   "id": "ffb6ab15-87bc-4e2f-8f7e-fd2b089cee16",
   "metadata": {
    "tags": []
   },
   "outputs": [],
   "source": [
    "import sys \n",
    "import os\n",
    "sys.path.insert(0, '/home/jupyter/hisepy/build/lib') # Note: reinstalled hisepy into python 3.9 conda environment. adding to path here\n",
    "import hisepy as hp\n",
    "import session_info\n",
    "import glob"
   ]
  },
  {
   "cell_type": "markdown",
   "id": "4bfb44e3-56e8-4b25-a891-592bc03b0227",
   "metadata": {},
   "source": [
    "## Variables"
   ]
  },
  {
   "cell_type": "code",
   "execution_count": 3,
   "id": "33e0ea76-9bf3-45e5-a835-b8a539fd3191",
   "metadata": {
    "tags": []
   },
   "outputs": [],
   "source": [
    "# Destination Study space\n",
    "spaceid = '40df6403-29f0-4b45-ab7d-f46d420c422e'"
   ]
  },
  {
   "cell_type": "code",
   "execution_count": 4,
   "id": "aa38601a-d5d7-45ae-9ee6-542049c90dce",
   "metadata": {
    "tags": []
   },
   "outputs": [],
   "source": [
    "# Source DEG dataset\n",
    "input_fileid = ['fc83b89f-fd26-43b8-ac91-29c539703a45'] "
   ]
  },
  {
   "cell_type": "markdown",
   "id": "c0fa18a3-2501-48a6-8a95-70f7337ca24a",
   "metadata": {},
   "source": [
    "## Data"
   ]
  },
  {
   "cell_type": "code",
   "execution_count": 5,
   "id": "4b7ab188-f7ab-4e4c-9991-7f4fde3d15d5",
   "metadata": {
    "tags": []
   },
   "outputs": [
    {
     "name": "stdout",
     "output_type": "stream",
     "text": [
      "['data/all_mast_deg_2023-09-06.pkl', 'data/custom_gs_dict.pkl', 'data/meta_color_dict.pkl', 'data/app_info.txt', 'assets/styles.css']\n"
     ]
    },
    {
     "data": {
      "text/plain": [
       "5"
      ]
     },
     "execution_count": 5,
     "metadata": {},
     "output_type": "execute_result"
    }
   ],
   "source": [
    "# Data files\n",
    "all_data = ['data/all_mast_deg_2023-09-06.pkl', \"data/custom_gs_dict.pkl\", \"data/meta_color_dict.pkl\",\"data/app_info.txt\", \"assets/styles.css\"]\n",
    "print(all_data) \n",
    "len(all_data)"
   ]
  },
  {
   "cell_type": "code",
   "execution_count": 6,
   "id": "dac64f49-85dc-4eb3-a432-49900710907d",
   "metadata": {
    "tags": []
   },
   "outputs": [
    {
     "name": "stdout",
     "output_type": "stream",
     "text": [
      "Total Size : 0.023GB\n"
     ]
    }
   ],
   "source": [
    "sizes = [os.stat(x).st_size for x in all_data]\n",
    "print(\"{} : {}GB\".format(\"Total Size\", round(sum(sizes)/(1024*1024*1024),3)))"
   ]
  },
  {
   "cell_type": "code",
   "execution_count": 7,
   "id": "284a00f6-2ce5-4b9e-a455-d410d495b4fe",
   "metadata": {
    "scrolled": true,
    "tags": []
   },
   "outputs": [
    {
     "name": "stdout",
     "output_type": "stream",
     "text": [
      "data/all_mast_deg_2023-09-06.pkl exists: True\n",
      "data/custom_gs_dict.pkl exists: True\n",
      "data/meta_color_dict.pkl exists: True\n",
      "data/app_info.txt exists: True\n",
      "assets/styles.css exists: True\n"
     ]
    }
   ],
   "source": [
    "for fp in all_data:\n",
    "    print(fp + \" exists: \" + str(os.path.exists(fp)))"
   ]
  },
  {
   "cell_type": "markdown",
   "id": "88671704-a62c-4f15-a76e-49f0cdd635c6",
   "metadata": {},
   "source": [
    "## Save App"
   ]
  },
  {
   "cell_type": "code",
   "execution_count": 8,
   "id": "bc935e6f-0caa-4a61-b84f-3775614dec9a",
   "metadata": {
    "jp-MarkdownHeadingCollapsed": true,
    "tags": []
   },
   "outputs": [
    {
     "name": "stderr",
     "output_type": "stream",
     "text": [
      "WARNING: --strip-extras is becoming the default in version 8.0.0. To silence this warning, either use --strip-extras to opt into the new default or use --no-strip-extras to retain the existing behavior.\n"
     ]
    },
    {
     "name": "stdout",
     "output_type": "stream",
     "text": [
      "POST hydration/source/studyspace/file for hero image:\n",
      "{'error': False, 'id': '1OlEUP5TOo2bPPbxNBzwr2OrClEUY3Bin', 'url': 'https://drive.google.com/uc?id=1OlEUP5TOo2bPPbxNBzwr2OrClEUY3Bin&export=download'}\n",
      "Cannot determine the current notebook.\n",
      "1) /home/jupyter/repro-vrd-tea-seq-deg-app/03_UploadVisualization.ipynb\n",
      "2) /home/jupyter/repro-vrd-tea-seq/03-gsea-analysis/02-R_mast-deg_reactome_gsea.ipynb\n",
      "3) /home/jupyter/repro-vrd-tea-seq-deg-app/02_FormatAppDat_updated.ipynb\n",
      "Please select (1-3) \n"
     ]
    },
    {
     "name": "stdin",
     "output_type": "stream",
     "text": [
      " 1\n"
     ]
    },
    {
     "name": "stdout",
     "output_type": "stream",
     "text": [
      "POST toolchain/file for dash app tarball:\n",
      "{'trace_id': '3f912bfb-0e1d-450c-9396-a2806e09ed16', 'files': ['/home/jupyter/_yi7ilvc/dash_app.tar.gz']}\n",
      "POST toolchain/visualization/dash to save dash app:\n",
      "{'Message': 'Copaceticism', 'VisualizationId': '62ef797b-14ad-4bef-bcec-be1b7923eefa', 'AbstractionId': '00000000-0000-0000-0000-000000000000', 'TraceId': '3f912bfb-0e1d-450c-9396-a2806e09ed16', 'ProcessId': '4794a972-8d90-4c8c-b648-3d36087c92f8', 'WorkflowId': '00000000-0000-0000-0000-000000000000', 'ConfigFileId': '00000000-0000-0000-0000-000000000000'}\n",
      "POST toolchain/deploy/visualization to deploy dash app:\n",
      "{'endpoint': '/hydration/proxy/dash/3f912bfb-0e1d-450c-9396-a2806e09ed16/', 'Message': 'Dash deploy initiated'}\n",
      "dash image was successfully uploaded!\n"
     ]
    },
    {
     "data": {
      "text/plain": [
       "{'endpoint': '/hydration/proxy/dash/3f912bfb-0e1d-450c-9396-a2806e09ed16/',\n",
       " 'Message': 'Dash deploy initiated'}"
      ]
     },
     "execution_count": 8,
     "metadata": {},
     "output_type": "execute_result"
    }
   ],
   "source": [
    "hp.save_dash_app(\n",
    "    app_filepath = 'app.py',\n",
    "    additional_files = all_data,\n",
    "    input_file_ids= input_fileid,\n",
    "    study_space_id = spaceid,\n",
    "    title = \"In-Vitro T-cell VRd DEG Explorer, v1.0.2\",\n",
    "    description = \"Explore DEGs for various in-vitro drug effect comparisons\",\n",
    "    image = \"/home/jupyter/repro-vrd-tea-seq-deg-app/thumbnail.png\"\n",
    ")"
   ]
  },
  {
   "cell_type": "code",
   "execution_count": 11,
   "id": "49c6ac14-1a7c-4674-8a7a-29c764ad5212",
   "metadata": {
    "tags": []
   },
   "outputs": [
    {
     "data": {
      "text/html": [
       "<details>\n",
       "<summary>Click to view session information</summary>\n",
       "<pre>\n",
       "-----\n",
       "hisepy              0.3.0\n",
       "session_info        1.0.0\n",
       "-----\n",
       "</pre>\n",
       "<details>\n",
       "<summary>Click to view modules imported as dependencies</summary>\n",
       "<pre>\n",
       "PIL                         10.0.1\n",
       "anyio                       NA\n",
       "arrow                       1.3.0\n",
       "asttokens                   NA\n",
       "attr                        23.1.0\n",
       "attrs                       23.1.0\n",
       "babel                       2.13.1\n",
       "beatrix_jupyterlab          NA\n",
       "brotli                      NA\n",
       "cachetools                  5.3.1\n",
       "certifi                     2023.07.22\n",
       "cffi                        1.16.0\n",
       "charset_normalizer          3.3.2\n",
       "cloudpickle                 2.2.1\n",
       "colorama                    0.4.6\n",
       "comm                        0.1.4\n",
       "cryptography                41.0.5\n",
       "cycler                      0.10.0\n",
       "cython_runtime              NA\n",
       "dateutil                    2.8.2\n",
       "db_dtypes                   1.1.1\n",
       "debugpy                     1.8.0\n",
       "decorator                   5.1.1\n",
       "defusedxml                  0.7.1\n",
       "deprecated                  1.2.14\n",
       "exceptiongroup              1.1.3\n",
       "executing                   2.0.1\n",
       "fastjsonschema              NA\n",
       "fqdn                        NA\n",
       "google                      NA\n",
       "greenlet                    2.0.2\n",
       "grpc                        1.58.0\n",
       "grpc_status                 NA\n",
       "h5py                        3.10.0\n",
       "idna                        3.4\n",
       "importlib_metadata          NA\n",
       "ipykernel                   6.26.0\n",
       "ipython_genutils            0.2.0\n",
       "ipywidgets                  8.1.1\n",
       "isoduration                 NA\n",
       "jedi                        0.19.1\n",
       "jinja2                      3.1.2\n",
       "json5                       NA\n",
       "jsonpointer                 2.4\n",
       "jsonschema                  4.19.2\n",
       "jsonschema_specifications   NA\n",
       "jupyter_events              0.8.0\n",
       "jupyter_server              2.9.1\n",
       "jupyterlab_server           2.25.0\n",
       "jwt                         2.8.0\n",
       "kiwisolver                  1.4.5\n",
       "markupsafe                  2.1.3\n",
       "matplotlib                  3.8.0\n",
       "matplotlib_inline           0.1.6\n",
       "mpl_toolkits                NA\n",
       "nbformat                    5.9.2\n",
       "numpy                       1.26.0\n",
       "opentelemetry               NA\n",
       "overrides                   NA\n",
       "packaging                   23.2\n",
       "pandas                      2.1.2\n",
       "parso                       0.8.3\n",
       "pexpect                     4.8.0\n",
       "pickleshare                 0.7.5\n",
       "pkg_resources               NA\n",
       "platformdirs                3.11.0\n",
       "plotly                      5.18.0\n",
       "prettytable                 3.9.0\n",
       "prometheus_client           NA\n",
       "prompt_toolkit              3.0.39\n",
       "proto                       NA\n",
       "psutil                      5.9.3\n",
       "ptyprocess                  0.7.0\n",
       "pure_eval                   0.2.2\n",
       "pyarrow                     13.0.0\n",
       "pydev_ipython               NA\n",
       "pydevconsole                NA\n",
       "pydevd                      2.9.5\n",
       "pydevd_file_utils           NA\n",
       "pydevd_plugins              NA\n",
       "pydevd_tracing              NA\n",
       "pygments                    2.16.1\n",
       "pyparsing                   3.1.1\n",
       "pyreadr                     0.5.0\n",
       "pythonjsonlogger            NA\n",
       "pytz                        2023.3.post1\n",
       "referencing                 NA\n",
       "requests                    2.31.0\n",
       "rfc3339_validator           0.1.4\n",
       "rfc3986_validator           0.1.1\n",
       "rpds                        NA\n",
       "send2trash                  NA\n",
       "shapely                     1.8.5.post1\n",
       "six                         1.16.0\n",
       "sniffio                     1.3.0\n",
       "socks                       1.7.1\n",
       "sql                         NA\n",
       "sqlalchemy                  2.0.21\n",
       "sqlparse                    0.4.4\n",
       "stack_data                  0.6.2\n",
       "termcolor                   NA\n",
       "tornado                     6.3.3\n",
       "tqdm                        4.66.1\n",
       "traitlets                   5.9.0\n",
       "typing_extensions           NA\n",
       "uri_template                NA\n",
       "urllib3                     1.26.18\n",
       "wcwidth                     0.2.9\n",
       "webcolors                   1.13\n",
       "websocket                   1.6.4\n",
       "wrapt                       1.15.0\n",
       "xarray                      2023.10.1\n",
       "yaml                        6.0.1\n",
       "zipp                        NA\n",
       "zmq                         25.1.1\n",
       "zoneinfo                    NA\n",
       "</pre>\n",
       "</details> <!-- seems like this ends pre, so might as well be explicit -->\n",
       "<pre>\n",
       "-----\n",
       "IPython             8.17.2\n",
       "jupyter_client      8.5.0\n",
       "jupyter_core        5.5.0\n",
       "jupyterlab          3.6.6\n",
       "notebook            6.5.4\n",
       "-----\n",
       "Python 3.10.13 | packaged by conda-forge | (main, Oct 26 2023, 18:07:37) [GCC 12.3.0]\n",
       "Linux-5.15.0-1047-gcp-x86_64-with-glibc2.31\n",
       "-----\n",
       "Session information updated at 2024-01-05 18:01\n",
       "</pre>\n",
       "</details>"
      ],
      "text/plain": [
       "<IPython.core.display.HTML object>"
      ]
     },
     "execution_count": 11,
     "metadata": {},
     "output_type": "execute_result"
    }
   ],
   "source": [
    "import session_info\n",
    "session_info.show()"
   ]
  },
  {
   "cell_type": "code",
   "execution_count": null,
   "id": "58f514e2-c315-45e3-8fc6-34e80a8c349c",
   "metadata": {},
   "outputs": [],
   "source": []
  }
 ],
 "metadata": {
  "kernelspec": {
   "display_name": "Python 3 (ipykernel)",
   "language": "python",
   "name": "python3"
  },
  "language_info": {
   "codemirror_mode": {
    "name": "ipython",
    "version": 3
   },
   "file_extension": ".py",
   "mimetype": "text/x-python",
   "name": "python",
   "nbconvert_exporter": "python",
   "pygments_lexer": "ipython3",
   "version": "3.10.13"
  }
 },
 "nbformat": 4,
 "nbformat_minor": 5
}
