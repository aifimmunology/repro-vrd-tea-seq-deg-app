{
 "cells": [
  {
   "cell_type": "markdown",
   "id": "53258ba0-6061-4721-92c4-4e4ae6dbda0f",
   "metadata": {},
   "source": [
    "# Save app to HISE"
   ]
  },
  {
   "cell_type": "markdown",
   "id": "18e81b48-c694-43af-bb0d-be762dccbc6f",
   "metadata": {},
   "source": [
    "Save app back to HISE study space\n",
    "\n",
    "Ensure python version is 3.9 or above for sklearn compatibility with pip-tools"
   ]
  },
  {
   "cell_type": "markdown",
   "id": "ac72a42a-e331-4d6d-96eb-e09014b70eb2",
   "metadata": {},
   "source": [
    "## Set Up"
   ]
  },
  {
   "cell_type": "code",
   "execution_count": 1,
   "id": "33d10b6c-2790-4c25-991e-24c4a593d233",
   "metadata": {},
   "outputs": [
    {
     "name": "stdout",
     "output_type": "stream",
     "text": [
      "Python 3.9.18\n"
     ]
    }
   ],
   "source": [
    "!python --version"
   ]
  },
  {
   "cell_type": "code",
   "execution_count": 2,
   "id": "ffb6ab15-87bc-4e2f-8f7e-fd2b089cee16",
   "metadata": {},
   "outputs": [],
   "source": [
    "import sys \n",
    "import os\n",
    "sys.path.insert(0, '/home/jupyter/hisepy/build/lib') # Note: reinstalled hisepy into python 3.9 conda environment. adding to path here\n",
    "import hisepy as hp\n",
    "import session_info\n",
    "import glob"
   ]
  },
  {
   "cell_type": "markdown",
   "id": "4bfb44e3-56e8-4b25-a891-592bc03b0227",
   "metadata": {},
   "source": [
    "## Variables"
   ]
  },
  {
   "cell_type": "code",
   "execution_count": 3,
   "id": "33e0ea76-9bf3-45e5-a835-b8a539fd3191",
   "metadata": {},
   "outputs": [],
   "source": [
    "# Destination Study space\n",
    "spaceid = '40df6403-29f0-4b45-ab7d-f46d420c422e'"
   ]
  },
  {
   "cell_type": "code",
   "execution_count": 4,
   "id": "aa38601a-d5d7-45ae-9ee6-542049c90dce",
   "metadata": {},
   "outputs": [],
   "source": [
    "# Source DEG dataset\n",
    "input_fileid = ['fc83b89f-fd26-43b8-ac91-29c539703a45'] "
   ]
  },
  {
   "cell_type": "markdown",
   "id": "c0fa18a3-2501-48a6-8a95-70f7337ca24a",
   "metadata": {},
   "source": [
    "## Data"
   ]
  },
  {
   "cell_type": "code",
   "execution_count": 5,
   "id": "4b7ab188-f7ab-4e4c-9991-7f4fde3d15d5",
   "metadata": {},
   "outputs": [
    {
     "name": "stdout",
     "output_type": "stream",
     "text": [
      "['data/all_mast_deg_2023-09-06.pkl', 'data/custom_gs_dict.pkl', 'data/meta_color_dict.pkl', 'data/app_info.txt', 'assets/styles.css']\n"
     ]
    },
    {
     "data": {
      "text/plain": [
       "5"
      ]
     },
     "execution_count": 5,
     "metadata": {},
     "output_type": "execute_result"
    }
   ],
   "source": [
    "# Data files\n",
    "all_data = ['data/all_mast_deg_2023-09-06.pkl', \"data/custom_gs_dict.pkl\", \"data/meta_color_dict.pkl\",\"data/app_info.txt\", \"assets/styles.css\"]\n",
    "print(all_data) \n",
    "len(all_data)"
   ]
  },
  {
   "cell_type": "code",
   "execution_count": 6,
   "id": "dac64f49-85dc-4eb3-a432-49900710907d",
   "metadata": {},
   "outputs": [
    {
     "name": "stdout",
     "output_type": "stream",
     "text": [
      "Total Size : 0.026GB\n"
     ]
    }
   ],
   "source": [
    "sizes = [os.stat(x).st_size for x in all_data]\n",
    "print(\"{} : {}GB\".format(\"Total Size\", round(sum(sizes)/(1024*1024*1024),3)))"
   ]
  },
  {
   "cell_type": "code",
   "execution_count": 7,
   "id": "284a00f6-2ce5-4b9e-a455-d410d495b4fe",
   "metadata": {
    "scrolled": true,
    "tags": []
   },
   "outputs": [
    {
     "name": "stdout",
     "output_type": "stream",
     "text": [
      "data/all_mast_deg_2023-09-06.pkl exists: True\n",
      "data/custom_gs_dict.pkl exists: True\n",
      "data/meta_color_dict.pkl exists: True\n",
      "data/app_info.txt exists: True\n",
      "assets/styles.css exists: True\n"
     ]
    }
   ],
   "source": [
    "for fp in all_data:\n",
    "    print(fp + \" exists: \" + str(os.path.exists(fp)))"
   ]
  },
  {
   "cell_type": "markdown",
   "id": "88671704-a62c-4f15-a76e-49f0cdd635c6",
   "metadata": {},
   "source": [
    "## Save App"
   ]
  },
  {
   "cell_type": "code",
   "execution_count": 8,
   "id": "19b5a16f-2c7d-45a1-b1d1-18b2baf90c89",
   "metadata": {},
   "outputs": [
    {
     "name": "stderr",
     "output_type": "stream",
     "text": [
      "WARNING: --strip-extras is becoming the default in version 8.0.0. To silence this warning, either use --strip-extras to opt into the new default or use --no-strip-extras to retain the existing behavior.\n"
     ]
    },
    {
     "name": "stdout",
     "output_type": "stream",
     "text": [
      "POST hydration/source/studyspace/file for hero image:\n",
      "{'error': False, 'id': '1SAfHLJAUkAMxBd8xlN7d_prX7DeEoGQT', 'url': 'https://drive.google.com/uc?id=1SAfHLJAUkAMxBd8xlN7d_prX7DeEoGQT&export=download'}\n",
      "Cannot determine the current notebook.\n",
      "1) /home/jupyter/repro-vrd-tea-seq-deg-app/04_UploadVisualization.ipynb\n",
      "2) /home/jupyter/repro-vrd-tea-seq-deg-app/03_deg_comparison_app.ipynb\n",
      "3) /home/jupyter/repro-vrd-tea-seq-deg-app/02_FormatAppDat_updated.ipynb\n",
      "Please select (1-3) \n"
     ]
    },
    {
     "name": "stdin",
     "output_type": "stream",
     "text": [
      " 1\n"
     ]
    },
    {
     "name": "stdout",
     "output_type": "stream",
     "text": [
      "POST toolchain/file for dash app tarball:\n",
      "{'trace_id': 'd3f45396-e0d1-4901-b093-06913398149a', 'files': ['/home/jupyter/070_akdk/dash_app.tar.gz']}\n",
      "POST toolchain/visualization/dash to save dash app:\n",
      "{'Message': 'Copaceticism', 'VisualizationId': 'cf8053b1-c43f-4119-985e-2b24e394bda5', 'TraceId': 'd3f45396-e0d1-4901-b093-06913398149a', 'ProcessId': 'fc882cb6-c2a3-4de6-bc32-64004ac5b4b7'}\n",
      "POST toolchain/deploy/visualization to deploy dash app:\n",
      "{'endpoint': '/hydration/proxy/dash/d3f45396-e0d1-4901-b093-06913398149a/', 'Message': 'Dash deploy initiated'}\n",
      "dash image was successfully uploaded!\n"
     ]
    },
    {
     "data": {
      "text/plain": [
       "{'endpoint': '/hydration/proxy/dash/d3f45396-e0d1-4901-b093-06913398149a/',\n",
       " 'Message': 'Dash deploy initiated'}"
      ]
     },
     "execution_count": 8,
     "metadata": {},
     "output_type": "execute_result"
    }
   ],
   "source": [
    "hp.save_dash_app(\n",
    "    app_filepath = 'app.py',\n",
    "    additional_files = all_data,\n",
    "    input_file_ids= input_fileid,\n",
    "    study_space_id = spaceid,\n",
    "    title = \"In-Vitro T-cell VRd DEG Explorer, v1.0.0\",\n",
    "    description = \"Explore DEGs for various in-vitro drug effect comparisons\",\n",
    "    image = \"/home/jupyter/repro-vrd-tea-seq-deg-app/thumbnail.png\"\n",
    ") "
   ]
  },
  {
   "cell_type": "markdown",
   "id": "5edb9618-c15a-428e-a29f-8cbc207a61ec",
   "metadata": {},
   "source": [
    "## Environment"
   ]
  },
  {
   "cell_type": "code",
   "execution_count": 10,
   "id": "52c04932-5a96-447e-a6d7-9a2ee52d3fa9",
   "metadata": {},
   "outputs": [
    {
     "ename": "KeyError",
     "evalue": "'google3'",
     "output_type": "error",
     "traceback": [
      "\u001b[0;31m---------------------------------------------------------------------------\u001b[0m",
      "\u001b[0;31mKeyError\u001b[0m                                  Traceback (most recent call last)",
      "Cell \u001b[0;32mIn[10], line 1\u001b[0m\n\u001b[0;32m----> 1\u001b[0m \u001b[43msession_info\u001b[49m\u001b[38;5;241;43m.\u001b[39;49m\u001b[43mshow\u001b[49m\u001b[43m(\u001b[49m\u001b[43m)\u001b[49m\n",
      "File \u001b[0;32m/opt/conda/envs/pynew/lib/python3.9/site-packages/session_info/main.py:209\u001b[0m, in \u001b[0;36mshow\u001b[0;34m(na, os, cpu, jupyter, dependencies, std_lib, private, write_req_file, req_file_name, html, excludes)\u001b[0m\n\u001b[1;32m    207\u001b[0m \u001b[38;5;28;01mfor\u001b[39;00m mod_name \u001b[38;5;129;01min\u001b[39;00m clean_modules:\n\u001b[1;32m    208\u001b[0m     mod_names\u001b[38;5;241m.\u001b[39mappend(mod_name)\n\u001b[0;32m--> 209\u001b[0m     mod \u001b[38;5;241m=\u001b[39m \u001b[43msys\u001b[49m\u001b[38;5;241;43m.\u001b[39;49m\u001b[43mmodules\u001b[49m\u001b[43m[\u001b[49m\u001b[43mmod_name\u001b[49m\u001b[43m]\u001b[49m\n\u001b[1;32m    210\u001b[0m     \u001b[38;5;66;03m# Since modules use different attribute names to store version info,\u001b[39;00m\n\u001b[1;32m    211\u001b[0m     \u001b[38;5;66;03m# try the most common ones.\u001b[39;00m\n\u001b[1;32m    212\u001b[0m     \u001b[38;5;28;01mtry\u001b[39;00m:\n",
      "\u001b[0;31mKeyError\u001b[0m: 'google3'"
     ]
    }
   ],
   "source": [
    "session_info.show()"
   ]
  },
  {
   "cell_type": "code",
   "execution_count": null,
   "id": "314ff8e6-b981-4247-bb02-04e5302f51e6",
   "metadata": {},
   "outputs": [],
   "source": []
  }
 ],
 "metadata": {
  "kernelspec": {
   "display_name": "Python [conda env:pynew]",
   "language": "python",
   "name": "conda-env-pynew-py"
  },
  "language_info": {
   "codemirror_mode": {
    "name": "ipython",
    "version": 3
   },
   "file_extension": ".py",
   "mimetype": "text/x-python",
   "name": "python",
   "nbconvert_exporter": "python",
   "pygments_lexer": "ipython3",
   "version": "3.9.18"
  }
 },
 "nbformat": 4,
 "nbformat_minor": 5
}
