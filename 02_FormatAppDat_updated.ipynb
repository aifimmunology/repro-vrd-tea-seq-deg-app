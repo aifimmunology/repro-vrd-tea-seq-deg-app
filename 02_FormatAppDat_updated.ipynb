{
 "cells": [
  {
   "cell_type": "markdown",
   "id": "e1000bb2-94b7-4dea-9e79-10c9c5376514",
   "metadata": {},
   "source": [
    "## Format App Data"
   ]
  },
  {
   "cell_type": "markdown",
   "id": "1b933de9-3a8e-4060-ab3e-f45e248939fc",
   "metadata": {},
   "source": [
    "Format data for direct App ingest:\n",
    "* Results data table\n",
    "* Plot color conventions\n",
    "* Geneset dictionary"
   ]
  },
  {
   "cell_type": "markdown",
   "id": "3ad4b358-c199-40bf-9463-c8ac6b18afaa",
   "metadata": {},
   "source": [
    "## Set Up"
   ]
  },
  {
   "cell_type": "code",
   "execution_count": 1,
   "id": "0a573b42-5a60-43f6-83e5-ac149295f934",
   "metadata": {},
   "outputs": [],
   "source": [
    "# pip install session_info"
   ]
  },
  {
   "cell_type": "code",
   "execution_count": 2,
   "id": "a4cea411-378d-445b-89b6-1009744d7025",
   "metadata": {},
   "outputs": [],
   "source": [
    "import pandas as pd\n",
    "from warnings import warn\n",
    "import numpy as np\n",
    "import hisepy as hp\n",
    "import os\n",
    "import session_info\n",
    "import pickle\n",
    "import re"
   ]
  },
  {
   "cell_type": "markdown",
   "id": "cc1f2d68-b3bb-47c0-81b6-cfae0d0be4b0",
   "metadata": {
    "tags": []
   },
   "source": [
    "## Functions"
   ]
  },
  {
   "cell_type": "code",
   "execution_count": 3,
   "id": "b6bebb3e-fbd5-49bc-866a-85e3bb1cd171",
   "metadata": {},
   "outputs": [],
   "source": [
    "def check_cat_dict(cat_dict, df, verbose = False):\n",
    "    ''' \n",
    "    Checks that a dictionary of column names and ordered expected values represents complete \n",
    "    data given the data frame.\n",
    "    Requires: from warnings import warn\n",
    "    '''\n",
    "    \n",
    "    for name in cat_dict.keys():\n",
    "        if(name not in df.columns):\n",
    "            warn('category dictionary column name not found in data: ' + name)\n",
    "        else:\n",
    "            data_cat_all = pd.unique(df[name])\n",
    "            missing_cat = [x for x in data_cat_all if x not in cat_dict[name]]\n",
    "            if len(missing_cat) > 0:\n",
    "                warn('The following values in data column \"' + name + '\" are not found in category dictionary: ' + \", \".join(missing_cat) + \n",
    "                     \". Add to dictionary if you wish to include as categorical levels for plot filtering, etc.\")\n",
    "            extra_cat = [x for x in cat_dict[name] if x not in data_cat_all]\n",
    "            if len(extra_cat) > 0:\n",
    "                warn('Extra data levels found in data dictionary for column \"' + name + '\": ' + \", \".join(extra_cat) + \n",
    "                         \". These will be removed as categories during variable formatting.\")\n",
    "    if(verbose):\n",
    "        print(\"Finished checking category dictionary\")\n",
    "\n",
    "# #test1: bad dictionary colname\n",
    "# test1_dict = {'cell_type':ct_order,\n",
    "#            'randomcol': [1,2,4,23,8],\n",
    "#           'experiment':expt_order}\n",
    "# check_cat_dict(test1_dict, df, verbose = True)\n",
    "\n",
    "# #test2: missing data level\n",
    "# test2_dict = {'cell_type': ct_order[0:10],\n",
    "#               'experiment':expt_order}\n",
    "# check_cat_dict(test2_dict, df, verbose = True)\n",
    "\n",
    "\n",
    "# #test3: bad dictionary colname and missing data\n",
    "# test3_dict = {'cell_type':ct_order[0:10],\n",
    "#                'randomcol': [1,2,4,23,8],\n",
    "#               'experiment':expt_order}\n",
    "# check_cat_dict(test3_dict, df, verbose = True)\n",
    "\n",
    "# #test4: extra category\n",
    "# test_order = ct_order[0:10].copy()\n",
    "# test_order.extend(['random_celltype'])\n",
    "# test4_dict = {'cell_type': test_order,\n",
    "#               'randomcol': [1,2,4,23,8],\n",
    "#               'experiment':expt_order}\n",
    "# check_cat_dict(test4_dict, df, verbose = True)\n",
    "\n",
    "# check_cat_dict(test_dict, test_df, verbose=True)"
   ]
  },
  {
   "cell_type": "code",
   "execution_count": 4,
   "id": "f383bfe8-8b7d-4bee-9983-7eb3f15fcac6",
   "metadata": {},
   "outputs": [],
   "source": [
    "def format_df(df, cat_dict={}):\n",
    "    ''' \n",
    "    Converts all string columns to categorical, using input dictionary to set \n",
    "    value order if supplied, otherwise sets order as alphanumeric sorted values\n",
    "    \n",
    "    Requires: import pandas as pd; import numpy as np\n",
    "    '''\n",
    "    res = df.copy()\n",
    "    \n",
    "    # Formats\n",
    "    types = [res[x].dtype for x in res.columns]\n",
    "    \n",
    "    # Convert string to categorical\n",
    "    i_str = [i for i in range(len(types)) if types[i] =='O']\n",
    "    if(len(i_str) > 0):\n",
    "        if(len(i_str) > 0):\n",
    "            cnames = [res.columns[i] for i in i_str]\n",
    "            cat_dict_all = {x:cat_dict[x] if x in cat_dict.keys() else np.sort(pd.unique(res[x])) for x in cnames}\n",
    "            for col in cnames:\n",
    "                res[col] = res[col].astype(pd.CategoricalDtype(categories=cat_dict_all[col], ordered = True))\n",
    "    return res"
   ]
  },
  {
   "cell_type": "code",
   "execution_count": 5,
   "id": "f409d722-4d3a-4301-a0a6-2aef4feb9fff",
   "metadata": {},
   "outputs": [],
   "source": [
    "def make_comp_label(treatment, timepoint):\n",
    "    res_str = \"TEA-seq \" + treatment[0].upper() + treatment[1:3] + \". \" + str(int(timepoint)) + \" hr\"\n",
    "    return(res_str)\n"
   ]
  },
  {
   "cell_type": "markdown",
   "id": "9585ce6b-e909-4c5f-abc0-9b469f5d62c5",
   "metadata": {},
   "source": [
    "## Read Data"
   ]
  },
  {
   "cell_type": "markdown",
   "id": "ff4124a9-c40c-48aa-b563-7c5ff18e06a9",
   "metadata": {},
   "source": [
    "updated data 9/6/23:"
   ]
  },
  {
   "cell_type": "code",
   "execution_count": 6,
   "id": "df24b0b0-fea4-4f93-9e84-1f350a510b3f",
   "metadata": {},
   "outputs": [],
   "source": [
    "# DEG Results\n",
    "fid ='fc83b89f-fd26-43b8-ac91-29c539703a45'\n",
    "fd = hp.read_files(file_list = [fid])\n",
    "os.rename(\"cache/unknown/all_mast_deg_2023-09-06.csv\", \"data/all_mast_deg_2023-09-06.csv\")"
   ]
  },
  {
   "cell_type": "code",
   "execution_count": 7,
   "id": "b3f972ac-98af-4ded-8c56-46f92f2ddef9",
   "metadata": {},
   "outputs": [
    {
     "data": {
      "text/html": [
       "<div>\n",
       "<style scoped>\n",
       "    .dataframe tbody tr th:only-of-type {\n",
       "        vertical-align: middle;\n",
       "    }\n",
       "\n",
       "    .dataframe tbody tr th {\n",
       "        vertical-align: top;\n",
       "    }\n",
       "\n",
       "    .dataframe thead th {\n",
       "        text-align: right;\n",
       "    }\n",
       "</style>\n",
       "<table border=\"1\" class=\"dataframe\">\n",
       "  <thead>\n",
       "    <tr style=\"text-align: right;\">\n",
       "      <th></th>\n",
       "      <th>aifi_cell_type</th>\n",
       "      <th>timepoint</th>\n",
       "      <th>fg</th>\n",
       "      <th>bg</th>\n",
       "      <th>n_sample</th>\n",
       "      <th>gene</th>\n",
       "      <th>coef_C</th>\n",
       "      <th>coef_D</th>\n",
       "      <th>logFC</th>\n",
       "      <th>nomP</th>\n",
       "      <th>adjP</th>\n",
       "    </tr>\n",
       "  </thead>\n",
       "  <tbody>\n",
       "    <tr>\n",
       "      <th>0</th>\n",
       "      <td>t_cd4_cm</td>\n",
       "      <td>4</td>\n",
       "      <td>bortezomib</td>\n",
       "      <td>dmso</td>\n",
       "      <td>648</td>\n",
       "      <td>A1BG-AS1</td>\n",
       "      <td>0.028412</td>\n",
       "      <td>-0.127145</td>\n",
       "      <td>-0.008604</td>\n",
       "      <td>0.740370</td>\n",
       "      <td>0.999237</td>\n",
       "    </tr>\n",
       "    <tr>\n",
       "      <th>1</th>\n",
       "      <td>t_cd4_cm</td>\n",
       "      <td>4</td>\n",
       "      <td>bortezomib</td>\n",
       "      <td>dmso</td>\n",
       "      <td>648</td>\n",
       "      <td>AAGAB</td>\n",
       "      <td>0.032287</td>\n",
       "      <td>-0.255750</td>\n",
       "      <td>-0.054295</td>\n",
       "      <td>0.145599</td>\n",
       "      <td>0.991887</td>\n",
       "    </tr>\n",
       "    <tr>\n",
       "      <th>2</th>\n",
       "      <td>t_cd4_cm</td>\n",
       "      <td>4</td>\n",
       "      <td>bortezomib</td>\n",
       "      <td>dmso</td>\n",
       "      <td>648</td>\n",
       "      <td>AAK1</td>\n",
       "      <td>-0.009058</td>\n",
       "      <td>0.047696</td>\n",
       "      <td>0.014816</td>\n",
       "      <td>0.876254</td>\n",
       "      <td>0.999237</td>\n",
       "    </tr>\n",
       "    <tr>\n",
       "      <th>3</th>\n",
       "      <td>t_cd4_cm</td>\n",
       "      <td>4</td>\n",
       "      <td>bortezomib</td>\n",
       "      <td>dmso</td>\n",
       "      <td>648</td>\n",
       "      <td>AAMDC</td>\n",
       "      <td>0.062295</td>\n",
       "      <td>0.192507</td>\n",
       "      <td>0.043135</td>\n",
       "      <td>0.160231</td>\n",
       "      <td>0.991887</td>\n",
       "    </tr>\n",
       "    <tr>\n",
       "      <th>4</th>\n",
       "      <td>t_cd4_cm</td>\n",
       "      <td>4</td>\n",
       "      <td>bortezomib</td>\n",
       "      <td>dmso</td>\n",
       "      <td>648</td>\n",
       "      <td>AAMP</td>\n",
       "      <td>0.018081</td>\n",
       "      <td>-0.166733</td>\n",
       "      <td>-0.010012</td>\n",
       "      <td>0.733253</td>\n",
       "      <td>0.999237</td>\n",
       "    </tr>\n",
       "  </tbody>\n",
       "</table>\n",
       "</div>"
      ],
      "text/plain": [
       "  aifi_cell_type  timepoint          fg    bg  n_sample      gene    coef_C  \\\n",
       "0       t_cd4_cm          4  bortezomib  dmso       648  A1BG-AS1  0.028412   \n",
       "1       t_cd4_cm          4  bortezomib  dmso       648     AAGAB  0.032287   \n",
       "2       t_cd4_cm          4  bortezomib  dmso       648      AAK1 -0.009058   \n",
       "3       t_cd4_cm          4  bortezomib  dmso       648     AAMDC  0.062295   \n",
       "4       t_cd4_cm          4  bortezomib  dmso       648      AAMP  0.018081   \n",
       "\n",
       "     coef_D     logFC      nomP      adjP  \n",
       "0 -0.127145 -0.008604  0.740370  0.999237  \n",
       "1 -0.255750 -0.054295  0.145599  0.991887  \n",
       "2  0.047696  0.014816  0.876254  0.999237  \n",
       "3  0.192507  0.043135  0.160231  0.991887  \n",
       "4 -0.166733 -0.010012  0.733253  0.999237  "
      ]
     },
     "execution_count": 7,
     "metadata": {},
     "output_type": "execute_result"
    }
   ],
   "source": [
    "fp = './data/all_mast_deg_2023-09-06.csv'\n",
    "df = pd.read_csv(fp)\n",
    "df.head()"
   ]
  },
  {
   "cell_type": "code",
   "execution_count": 8,
   "id": "8873f565-713c-457c-9e0a-502235dcd395",
   "metadata": {},
   "outputs": [
    {
     "data": {
      "text/plain": [
       "(390410, 11)"
      ]
     },
     "execution_count": 8,
     "metadata": {},
     "output_type": "execute_result"
    }
   ],
   "source": [
    "df.shape"
   ]
  },
  {
   "cell_type": "markdown",
   "id": "57420889-b43d-4ede-8f50-33919207cdbe",
   "metadata": {},
   "source": [
    "## Format Data"
   ]
  },
  {
   "cell_type": "markdown",
   "id": "564933ba-d3c5-45f8-9fce-c56e5f41aeb8",
   "metadata": {},
   "source": [
    "### Add treatment column"
   ]
  },
  {
   "cell_type": "code",
   "execution_count": 9,
   "id": "c48c5795-0129-47c1-8503-48509c6b15bb",
   "metadata": {},
   "outputs": [],
   "source": [
    "df['treatment'] = df.loc[:,'fg']"
   ]
  },
  {
   "cell_type": "markdown",
   "id": "24efee7f-a569-4dcb-99e0-a4f152954f46",
   "metadata": {},
   "source": [
    "### Add comparison column"
   ]
  },
  {
   "cell_type": "code",
   "execution_count": 10,
   "id": "0504ce6a-0857-47b6-9972-db70ac97f24e",
   "metadata": {},
   "outputs": [],
   "source": [
    "df['comparison'] = df.apply(lambda row: make_comp_label(row.treatment, row.timepoint), axis = 1)"
   ]
  },
  {
   "cell_type": "code",
   "execution_count": 11,
   "id": "3043e0af-e0ba-4f1c-888d-21ac4d51fc65",
   "metadata": {},
   "outputs": [
    {
     "data": {
      "text/plain": [
       "array(['TEA-seq Bor. 4 hr', 'TEA-seq Bor. 24 hr', 'TEA-seq Bor. 72 hr',\n",
       "       'TEA-seq Dex. 4 hr', 'TEA-seq Dex. 24 hr', 'TEA-seq Len. 4 hr',\n",
       "       'TEA-seq Len. 24 hr', 'TEA-seq Len. 72 hr'], dtype=object)"
      ]
     },
     "execution_count": 11,
     "metadata": {},
     "output_type": "execute_result"
    }
   ],
   "source": [
    "df['comparison'].unique()"
   ]
  },
  {
   "cell_type": "markdown",
   "id": "09d26ca7-9b29-4463-9503-1f8f358ab2ca",
   "metadata": {},
   "source": [
    "### Add celltype label column"
   ]
  },
  {
   "cell_type": "code",
   "execution_count": 12,
   "id": "0211532c-4a96-4abc-88d5-7113c1c31883",
   "metadata": {},
   "outputs": [],
   "source": [
    "ct_df = {\n",
    "    'aifi_cell_type': [\n",
    "        't_cd4_naive',\n",
    "        't_cd4_cm',\n",
    "        't_cd4_em',\n",
    "        't_cd4_treg',\n",
    "        't_cd8_naive',\n",
    "        't_cd8_memory'\n",
    "    ],\n",
    "    'cell_type': [\n",
    "        'CD4 Naive',\n",
    "        'CD4 CM',\n",
    "        'CD4 EM',\n",
    "        'CD4 Treg',\n",
    "        'CD8 Naive',\n",
    "        'CD8 Memory'\n",
    "    ]\n",
    "}\n",
    "ct_labs = pd.DataFrame(ct_df)"
   ]
  },
  {
   "cell_type": "code",
   "execution_count": 13,
   "id": "563ce42b-fec6-4c6a-9578-a5d98b9c0e7c",
   "metadata": {},
   "outputs": [],
   "source": [
    "df = df.merge(ct_labs.loc[:,['aifi_cell_type','cell_type']], on='aifi_cell_type', how = 'left', copy=True)"
   ]
  },
  {
   "cell_type": "code",
   "execution_count": 14,
   "id": "0242e3a2-161f-44bc-87bf-0f0f5a949029",
   "metadata": {},
   "outputs": [
    {
     "data": {
      "text/plain": [
       "array(['CD4 CM', 'CD4 EM', 'CD4 Naive', 'CD4 Treg', 'CD8 Memory',\n",
       "       'CD8 Naive'], dtype=object)"
      ]
     },
     "execution_count": 14,
     "metadata": {},
     "output_type": "execute_result"
    }
   ],
   "source": [
    "df['cell_type'].unique()"
   ]
  },
  {
   "cell_type": "markdown",
   "id": "63a5414b-735b-4e3e-a505-15fbfce2d4de",
   "metadata": {},
   "source": [
    "### Check"
   ]
  },
  {
   "cell_type": "code",
   "execution_count": 15,
   "id": "cf089dd7-6923-41cd-8cc8-0a20502be5d6",
   "metadata": {},
   "outputs": [
    {
     "data": {
      "text/plain": [
       "(390410, 14)"
      ]
     },
     "execution_count": 15,
     "metadata": {},
     "output_type": "execute_result"
    }
   ],
   "source": [
    "df.shape"
   ]
  },
  {
   "cell_type": "code",
   "execution_count": 16,
   "id": "3c1dc3f6-1d06-4064-8f0e-304544c134d7",
   "metadata": {},
   "outputs": [
    {
     "data": {
      "text/plain": [
       "Index(['aifi_cell_type', 'timepoint', 'fg', 'bg', 'n_sample', 'gene', 'coef_C',\n",
       "       'coef_D', 'logFC', 'nomP', 'adjP', 'treatment', 'comparison',\n",
       "       'cell_type'],\n",
       "      dtype='object')"
      ]
     },
     "execution_count": 16,
     "metadata": {},
     "output_type": "execute_result"
    }
   ],
   "source": [
    "df.columns"
   ]
  },
  {
   "cell_type": "code",
   "execution_count": 17,
   "id": "399d09b4-5292-48b1-9d7d-faf8822ed9db",
   "metadata": {},
   "outputs": [
    {
     "data": {
      "text/html": [
       "<div>\n",
       "<style scoped>\n",
       "    .dataframe tbody tr th:only-of-type {\n",
       "        vertical-align: middle;\n",
       "    }\n",
       "\n",
       "    .dataframe tbody tr th {\n",
       "        vertical-align: top;\n",
       "    }\n",
       "\n",
       "    .dataframe thead th {\n",
       "        text-align: right;\n",
       "    }\n",
       "</style>\n",
       "<table border=\"1\" class=\"dataframe\">\n",
       "  <thead>\n",
       "    <tr style=\"text-align: right;\">\n",
       "      <th></th>\n",
       "      <th>aifi_cell_type</th>\n",
       "      <th>timepoint</th>\n",
       "      <th>fg</th>\n",
       "      <th>bg</th>\n",
       "      <th>n_sample</th>\n",
       "      <th>gene</th>\n",
       "      <th>coef_C</th>\n",
       "      <th>coef_D</th>\n",
       "      <th>logFC</th>\n",
       "      <th>nomP</th>\n",
       "      <th>adjP</th>\n",
       "      <th>treatment</th>\n",
       "      <th>comparison</th>\n",
       "      <th>cell_type</th>\n",
       "    </tr>\n",
       "  </thead>\n",
       "  <tbody>\n",
       "    <tr>\n",
       "      <th>0</th>\n",
       "      <td>t_cd4_cm</td>\n",
       "      <td>4</td>\n",
       "      <td>bortezomib</td>\n",
       "      <td>dmso</td>\n",
       "      <td>648</td>\n",
       "      <td>A1BG-AS1</td>\n",
       "      <td>0.028412</td>\n",
       "      <td>-0.127145</td>\n",
       "      <td>-0.008604</td>\n",
       "      <td>0.740370</td>\n",
       "      <td>0.999237</td>\n",
       "      <td>bortezomib</td>\n",
       "      <td>TEA-seq Bor. 4 hr</td>\n",
       "      <td>CD4 CM</td>\n",
       "    </tr>\n",
       "    <tr>\n",
       "      <th>1</th>\n",
       "      <td>t_cd4_cm</td>\n",
       "      <td>4</td>\n",
       "      <td>bortezomib</td>\n",
       "      <td>dmso</td>\n",
       "      <td>648</td>\n",
       "      <td>AAGAB</td>\n",
       "      <td>0.032287</td>\n",
       "      <td>-0.255750</td>\n",
       "      <td>-0.054295</td>\n",
       "      <td>0.145599</td>\n",
       "      <td>0.991887</td>\n",
       "      <td>bortezomib</td>\n",
       "      <td>TEA-seq Bor. 4 hr</td>\n",
       "      <td>CD4 CM</td>\n",
       "    </tr>\n",
       "    <tr>\n",
       "      <th>2</th>\n",
       "      <td>t_cd4_cm</td>\n",
       "      <td>4</td>\n",
       "      <td>bortezomib</td>\n",
       "      <td>dmso</td>\n",
       "      <td>648</td>\n",
       "      <td>AAK1</td>\n",
       "      <td>-0.009058</td>\n",
       "      <td>0.047696</td>\n",
       "      <td>0.014816</td>\n",
       "      <td>0.876254</td>\n",
       "      <td>0.999237</td>\n",
       "      <td>bortezomib</td>\n",
       "      <td>TEA-seq Bor. 4 hr</td>\n",
       "      <td>CD4 CM</td>\n",
       "    </tr>\n",
       "    <tr>\n",
       "      <th>3</th>\n",
       "      <td>t_cd4_cm</td>\n",
       "      <td>4</td>\n",
       "      <td>bortezomib</td>\n",
       "      <td>dmso</td>\n",
       "      <td>648</td>\n",
       "      <td>AAMDC</td>\n",
       "      <td>0.062295</td>\n",
       "      <td>0.192507</td>\n",
       "      <td>0.043135</td>\n",
       "      <td>0.160231</td>\n",
       "      <td>0.991887</td>\n",
       "      <td>bortezomib</td>\n",
       "      <td>TEA-seq Bor. 4 hr</td>\n",
       "      <td>CD4 CM</td>\n",
       "    </tr>\n",
       "    <tr>\n",
       "      <th>4</th>\n",
       "      <td>t_cd4_cm</td>\n",
       "      <td>4</td>\n",
       "      <td>bortezomib</td>\n",
       "      <td>dmso</td>\n",
       "      <td>648</td>\n",
       "      <td>AAMP</td>\n",
       "      <td>0.018081</td>\n",
       "      <td>-0.166733</td>\n",
       "      <td>-0.010012</td>\n",
       "      <td>0.733253</td>\n",
       "      <td>0.999237</td>\n",
       "      <td>bortezomib</td>\n",
       "      <td>TEA-seq Bor. 4 hr</td>\n",
       "      <td>CD4 CM</td>\n",
       "    </tr>\n",
       "  </tbody>\n",
       "</table>\n",
       "</div>"
      ],
      "text/plain": [
       "  aifi_cell_type  timepoint          fg    bg  n_sample      gene    coef_C  \\\n",
       "0       t_cd4_cm          4  bortezomib  dmso       648  A1BG-AS1  0.028412   \n",
       "1       t_cd4_cm          4  bortezomib  dmso       648     AAGAB  0.032287   \n",
       "2       t_cd4_cm          4  bortezomib  dmso       648      AAK1 -0.009058   \n",
       "3       t_cd4_cm          4  bortezomib  dmso       648     AAMDC  0.062295   \n",
       "4       t_cd4_cm          4  bortezomib  dmso       648      AAMP  0.018081   \n",
       "\n",
       "     coef_D     logFC      nomP      adjP   treatment         comparison  \\\n",
       "0 -0.127145 -0.008604  0.740370  0.999237  bortezomib  TEA-seq Bor. 4 hr   \n",
       "1 -0.255750 -0.054295  0.145599  0.991887  bortezomib  TEA-seq Bor. 4 hr   \n",
       "2  0.047696  0.014816  0.876254  0.999237  bortezomib  TEA-seq Bor. 4 hr   \n",
       "3  0.192507  0.043135  0.160231  0.991887  bortezomib  TEA-seq Bor. 4 hr   \n",
       "4 -0.166733 -0.010012  0.733253  0.999237  bortezomib  TEA-seq Bor. 4 hr   \n",
       "\n",
       "  cell_type  \n",
       "0    CD4 CM  \n",
       "1    CD4 CM  \n",
       "2    CD4 CM  \n",
       "3    CD4 CM  \n",
       "4    CD4 CM  "
      ]
     },
     "execution_count": 17,
     "metadata": {},
     "output_type": "execute_result"
    }
   ],
   "source": [
    "df.head()"
   ]
  },
  {
   "cell_type": "code",
   "execution_count": 18,
   "id": "7b9f22ea-ae9a-4842-b81b-56e76114a173",
   "metadata": {},
   "outputs": [
    {
     "data": {
      "text/html": [
       "<div>\n",
       "<style scoped>\n",
       "    .dataframe tbody tr th:only-of-type {\n",
       "        vertical-align: middle;\n",
       "    }\n",
       "\n",
       "    .dataframe tbody tr th {\n",
       "        vertical-align: top;\n",
       "    }\n",
       "\n",
       "    .dataframe thead th {\n",
       "        text-align: right;\n",
       "    }\n",
       "</style>\n",
       "<table border=\"1\" class=\"dataframe\">\n",
       "  <thead>\n",
       "    <tr style=\"text-align: right;\">\n",
       "      <th></th>\n",
       "      <th>aifi_cell_type</th>\n",
       "      <th>timepoint</th>\n",
       "      <th>fg</th>\n",
       "      <th>bg</th>\n",
       "      <th>n_sample</th>\n",
       "      <th>gene</th>\n",
       "      <th>coef_C</th>\n",
       "      <th>coef_D</th>\n",
       "      <th>logFC</th>\n",
       "      <th>nomP</th>\n",
       "      <th>adjP</th>\n",
       "      <th>treatment</th>\n",
       "      <th>comparison</th>\n",
       "      <th>cell_type</th>\n",
       "    </tr>\n",
       "  </thead>\n",
       "  <tbody>\n",
       "    <tr>\n",
       "      <th>390405</th>\n",
       "      <td>t_cd8_naive</td>\n",
       "      <td>72</td>\n",
       "      <td>lenalidomide</td>\n",
       "      <td>dmso</td>\n",
       "      <td>451</td>\n",
       "      <td>ZUP1</td>\n",
       "      <td>0.020741</td>\n",
       "      <td>-0.127805</td>\n",
       "      <td>-0.013134</td>\n",
       "      <td>0.804388</td>\n",
       "      <td>0.979982</td>\n",
       "      <td>lenalidomide</td>\n",
       "      <td>TEA-seq Len. 72 hr</td>\n",
       "      <td>CD8 Naive</td>\n",
       "    </tr>\n",
       "    <tr>\n",
       "      <th>390406</th>\n",
       "      <td>t_cd8_naive</td>\n",
       "      <td>72</td>\n",
       "      <td>lenalidomide</td>\n",
       "      <td>dmso</td>\n",
       "      <td>451</td>\n",
       "      <td>ZW10</td>\n",
       "      <td>0.096564</td>\n",
       "      <td>0.148373</td>\n",
       "      <td>0.018932</td>\n",
       "      <td>0.404856</td>\n",
       "      <td>0.902745</td>\n",
       "      <td>lenalidomide</td>\n",
       "      <td>TEA-seq Len. 72 hr</td>\n",
       "      <td>CD8 Naive</td>\n",
       "    </tr>\n",
       "    <tr>\n",
       "      <th>390407</th>\n",
       "      <td>t_cd8_naive</td>\n",
       "      <td>72</td>\n",
       "      <td>lenalidomide</td>\n",
       "      <td>dmso</td>\n",
       "      <td>451</td>\n",
       "      <td>ZXDC</td>\n",
       "      <td>0.031866</td>\n",
       "      <td>-0.011404</td>\n",
       "      <td>0.006514</td>\n",
       "      <td>0.697405</td>\n",
       "      <td>0.962611</td>\n",
       "      <td>lenalidomide</td>\n",
       "      <td>TEA-seq Len. 72 hr</td>\n",
       "      <td>CD8 Naive</td>\n",
       "    </tr>\n",
       "    <tr>\n",
       "      <th>390408</th>\n",
       "      <td>t_cd8_naive</td>\n",
       "      <td>72</td>\n",
       "      <td>lenalidomide</td>\n",
       "      <td>dmso</td>\n",
       "      <td>451</td>\n",
       "      <td>ZYG11B</td>\n",
       "      <td>-0.072328</td>\n",
       "      <td>0.125495</td>\n",
       "      <td>0.013986</td>\n",
       "      <td>0.234216</td>\n",
       "      <td>0.839012</td>\n",
       "      <td>lenalidomide</td>\n",
       "      <td>TEA-seq Len. 72 hr</td>\n",
       "      <td>CD8 Naive</td>\n",
       "    </tr>\n",
       "    <tr>\n",
       "      <th>390409</th>\n",
       "      <td>t_cd8_naive</td>\n",
       "      <td>72</td>\n",
       "      <td>lenalidomide</td>\n",
       "      <td>dmso</td>\n",
       "      <td>451</td>\n",
       "      <td>ZZEF1</td>\n",
       "      <td>-0.030105</td>\n",
       "      <td>0.027187</td>\n",
       "      <td>-0.001044</td>\n",
       "      <td>0.697492</td>\n",
       "      <td>0.962611</td>\n",
       "      <td>lenalidomide</td>\n",
       "      <td>TEA-seq Len. 72 hr</td>\n",
       "      <td>CD8 Naive</td>\n",
       "    </tr>\n",
       "  </tbody>\n",
       "</table>\n",
       "</div>"
      ],
      "text/plain": [
       "       aifi_cell_type  timepoint            fg    bg  n_sample    gene  \\\n",
       "390405    t_cd8_naive         72  lenalidomide  dmso       451    ZUP1   \n",
       "390406    t_cd8_naive         72  lenalidomide  dmso       451    ZW10   \n",
       "390407    t_cd8_naive         72  lenalidomide  dmso       451    ZXDC   \n",
       "390408    t_cd8_naive         72  lenalidomide  dmso       451  ZYG11B   \n",
       "390409    t_cd8_naive         72  lenalidomide  dmso       451   ZZEF1   \n",
       "\n",
       "          coef_C    coef_D     logFC      nomP      adjP     treatment  \\\n",
       "390405  0.020741 -0.127805 -0.013134  0.804388  0.979982  lenalidomide   \n",
       "390406  0.096564  0.148373  0.018932  0.404856  0.902745  lenalidomide   \n",
       "390407  0.031866 -0.011404  0.006514  0.697405  0.962611  lenalidomide   \n",
       "390408 -0.072328  0.125495  0.013986  0.234216  0.839012  lenalidomide   \n",
       "390409 -0.030105  0.027187 -0.001044  0.697492  0.962611  lenalidomide   \n",
       "\n",
       "                comparison  cell_type  \n",
       "390405  TEA-seq Len. 72 hr  CD8 Naive  \n",
       "390406  TEA-seq Len. 72 hr  CD8 Naive  \n",
       "390407  TEA-seq Len. 72 hr  CD8 Naive  \n",
       "390408  TEA-seq Len. 72 hr  CD8 Naive  \n",
       "390409  TEA-seq Len. 72 hr  CD8 Naive  "
      ]
     },
     "execution_count": 18,
     "metadata": {},
     "output_type": "execute_result"
    }
   ],
   "source": [
    "df.tail()"
   ]
  },
  {
   "cell_type": "markdown",
   "id": "52a71f11-b40f-42f9-b6bf-055f9f378153",
   "metadata": {},
   "source": [
    "### Variable Levels"
   ]
  },
  {
   "cell_type": "markdown",
   "id": "8de7020d-ba41-4c41-980c-eb8ea6b58450",
   "metadata": {},
   "source": [
    "Make Categorical data dictionary to explicitly level categorical data. run the `check_cat_dict()` function to check for potential errors"
   ]
  },
  {
   "cell_type": "code",
   "execution_count": 19,
   "id": "8686c2ee-c11a-48f7-add4-d1a59efa0b54",
   "metadata": {},
   "outputs": [],
   "source": [
    "ct_order = ['CD4 Naive','CD4 CM','CD4 EM','CD4 Treg',\n",
    "            'CD8 Naive', 'CD8 Memory']\n",
    "comp_order = ['TEA-seq Bor. 4 hr','TEA-seq Bor. 24 hr','TEA-seq Bor. 72 hr',\n",
    "              'TEA-seq Len. 4 hr','TEA-seq Len. 24 hr','TEA-seq Len. 72 hr',\n",
    "              'TEA-seq Dex. 4 hr','TEA-seq Dex. 24 hr']\n",
    "treat_order = ['bortezomib','lenalidomide','dexamethasone']"
   ]
  },
  {
   "cell_type": "code",
   "execution_count": 20,
   "id": "f7b416c9-58a8-4023-b714-67c2333cbd10",
   "metadata": {},
   "outputs": [],
   "source": [
    "cat_dict={'cell_type':ct_order,\n",
    "          'comparison':comp_order,\n",
    "          'treatment':treat_order}"
   ]
  },
  {
   "cell_type": "code",
   "execution_count": 21,
   "id": "b5fb520e-9402-4aba-89cb-1dd06efda4a3",
   "metadata": {},
   "outputs": [
    {
     "name": "stdout",
     "output_type": "stream",
     "text": [
      "Finished checking category dictionary\n"
     ]
    }
   ],
   "source": [
    "check_cat_dict(cat_dict, df, verbose = True)"
   ]
  },
  {
   "cell_type": "code",
   "execution_count": 22,
   "id": "c54cdf72-0abb-4f31-81b7-07f34018dbd4",
   "metadata": {},
   "outputs": [
    {
     "name": "stdout",
     "output_type": "stream",
     "text": [
      "CPU times: user 408 ms, sys: 64.1 ms, total: 472 ms\n",
      "Wall time: 471 ms\n"
     ]
    }
   ],
   "source": [
    "%%time\n",
    "df = format_df(df, cat_dict)"
   ]
  },
  {
   "cell_type": "markdown",
   "id": "707690b1-ff0b-4eb0-822f-e67df45bd56e",
   "metadata": {},
   "source": [
    "### Save Formatted Data"
   ]
  },
  {
   "cell_type": "code",
   "execution_count": 23,
   "id": "a57279f9-be00-4ee9-9538-13789f017824",
   "metadata": {},
   "outputs": [],
   "source": [
    "handle_col = open('data/all_mast_deg_2023-09-06.pkl', 'wb')\n",
    "pickle.dump(df, handle_col, protocol=pickle.HIGHEST_PROTOCOL)\n",
    "handle_col.close()"
   ]
  },
  {
   "cell_type": "markdown",
   "id": "d636b731-fb22-47d6-b1cd-3be47b9938f2",
   "metadata": {
    "tags": []
   },
   "source": [
    "## Color dictionary"
   ]
  },
  {
   "cell_type": "code",
   "execution_count": 24,
   "id": "f45442c3-5744-42f7-9d8d-289474b0d043",
   "metadata": {},
   "outputs": [],
   "source": [
    "color_dict_ct = {\n",
    "    'CD4 Naive': '#93A7D1',\n",
    "    'CD4 CM': '#00AEEF',\n",
    "    'CD4 EM': '#1C75BC',\n",
    "    'CD4 Treg': '#E57A93',\n",
    "    'CD8 Naive': '#8DC63F',\n",
    "    'CD8 Memory': '#009444'\n",
    "} "
   ]
  },
  {
   "cell_type": "code",
   "execution_count": 25,
   "id": "f7734af4-878b-49cd-a1c6-8f94bdf2f661",
   "metadata": {},
   "outputs": [],
   "source": [
    "treat_col_dict = {\n",
    "    'bortezomib': '#FF9F45',\n",
    "    'lenalidomide': '#59C1BD',\n",
    "    'dexamethasone': '#8D9EFF'\n",
    "}"
   ]
  },
  {
   "cell_type": "code",
   "execution_count": 26,
   "id": "3f8719cb-2d0e-432a-949e-dde6b90c8536",
   "metadata": {},
   "outputs": [],
   "source": [
    "comp_dict = {\n",
    "    'TEA-seq Len. 72 hr': '#4F8886',\n",
    "    'TEA-seq Bor. 72 hr': '#F76E11',\n",
    "    'TEA-seq Dex. 24 hr': '#8D9EFF',\n",
    "    'TEA-seq Len. 24 hr': '#59C1BD',\n",
    "    'TEA-seq Bor. 24 hr': '#FF9F45',\n",
    "    'TEA-seq Dex. 4 hr': '#B9E0FF',\n",
    "    'TEA-seq Len. 4 hr': '#CFF5E7',\n",
    "    'TEA-seq Bor. 4 hr': '#FFBC80'\n",
    "}"
   ]
  },
  {
   "cell_type": "code",
   "execution_count": 27,
   "id": "3ba0142f-b5ed-4cef-b9d5-689816670196",
   "metadata": {},
   "outputs": [
    {
     "data": {
      "text/plain": [
       "{'cell_type': {'CD4 Naive': '#93A7D1',\n",
       "  'CD4 CM': '#00AEEF',\n",
       "  'CD4 EM': '#1C75BC',\n",
       "  'CD4 Treg': '#E57A93',\n",
       "  'CD8 Naive': '#8DC63F',\n",
       "  'CD8 Memory': '#009444'},\n",
       " 'comparison': {'TEA-seq Len. 72 hr': '#4F8886',\n",
       "  'TEA-seq Bor. 72 hr': '#F76E11',\n",
       "  'TEA-seq Dex. 24 hr': '#8D9EFF',\n",
       "  'TEA-seq Len. 24 hr': '#59C1BD',\n",
       "  'TEA-seq Bor. 24 hr': '#FF9F45',\n",
       "  'TEA-seq Dex. 4 hr': '#B9E0FF',\n",
       "  'TEA-seq Len. 4 hr': '#CFF5E7',\n",
       "  'TEA-seq Bor. 4 hr': '#FFBC80'},\n",
       " 'treatment': {'bortezomib': '#FF9F45',\n",
       "  'lenalidomide': '#59C1BD',\n",
       "  'dexamethasone': '#8D9EFF'}}"
      ]
     },
     "execution_count": 27,
     "metadata": {},
     "output_type": "execute_result"
    }
   ],
   "source": [
    "preset_colors_dict = {'cell_type':color_dict_ct,\n",
    "                     'comparison':comp_dict,\n",
    "                     'treatment':treat_col_dict}\n",
    "preset_colors_dict"
   ]
  },
  {
   "cell_type": "markdown",
   "id": "90bdecaa-41bf-42d2-8f2a-c9ff25587056",
   "metadata": {},
   "source": [
    "### Save color dictionary"
   ]
  },
  {
   "cell_type": "code",
   "execution_count": 28,
   "id": "9c4a77ff-f182-40db-a2fa-754f4cba6f0f",
   "metadata": {},
   "outputs": [],
   "source": [
    "handle_col = open('data/meta_color_dict.pkl', 'wb')\n",
    "pickle.dump(preset_colors_dict, handle_col, protocol=pickle.HIGHEST_PROTOCOL)\n",
    "handle_col.close()"
   ]
  },
  {
   "cell_type": "markdown",
   "id": "05c9e814-1e9b-4ef3-90d7-ad6d95117eb7",
   "metadata": {},
   "source": [
    "## Genesets"
   ]
  },
  {
   "cell_type": "markdown",
   "id": "a980c855-7858-43b2-b20d-7e61b891297e",
   "metadata": {},
   "source": [
    "### Curated"
   ]
  },
  {
   "cell_type": "code",
   "execution_count": 29,
   "id": "f8731bac-159c-4552-8aaa-9ef3c5ba148f",
   "metadata": {},
   "outputs": [],
   "source": [
    "custom_gs_fp = \"data/VRd Gene Sets from Literature.xlsx\""
   ]
  },
  {
   "cell_type": "code",
   "execution_count": 30,
   "id": "e909b90f-97c6-4010-a3b1-1d9eebc5d7a7",
   "metadata": {},
   "outputs": [],
   "source": [
    "custom_gs = pd.read_excel(custom_gs_fp)\n",
    "custom_gs = custom_gs.drop(labels=9, axis=0)\n",
    "custom_gs = custom_gs.reset_index()"
   ]
  },
  {
   "cell_type": "code",
   "execution_count": 31,
   "id": "1d844076-38ed-4b1b-b5aa-1512ff9de90d",
   "metadata": {},
   "outputs": [
    {
     "data": {
      "text/plain": [
       "(40, 15)"
      ]
     },
     "execution_count": 31,
     "metadata": {},
     "output_type": "execute_result"
    }
   ],
   "source": [
    "custom_gs.shape"
   ]
  },
  {
   "cell_type": "code",
   "execution_count": 32,
   "id": "a223e47a-74de-4bef-913c-34bfa18d7f8e",
   "metadata": {},
   "outputs": [],
   "source": [
    "def gs_df_to_dict(pddf, label_col='display_label', gene_col='genes', descr_col = 'description', delim = ';'):\n",
    "    gs_dict = {pddf[label_col][i]: {'description': pddf[descr_col][i],'features':pddf[gene_col][i].split(delim)} for i in range(pddf.shape[0])}\n",
    "    return(gs_dict)"
   ]
  },
  {
   "cell_type": "code",
   "execution_count": 33,
   "id": "2957ed82-6ea4-4064-9714-4485f3bb883a",
   "metadata": {},
   "outputs": [],
   "source": [
    "custom_gs_dict = gs_df_to_dict(custom_gs, label_col='display_label', gene_col='genes', delim = ';')"
   ]
  },
  {
   "cell_type": "markdown",
   "id": "6d221a7b-6967-4207-a2b6-71742495ed51",
   "metadata": {},
   "source": [
    "### Hallmark"
   ]
  },
  {
   "cell_type": "code",
   "execution_count": 34,
   "id": "64ad7c8d-b3fb-422d-9e7e-e70f47589589",
   "metadata": {},
   "outputs": [],
   "source": [
    "# require import re\n",
    "def fmt_gmt(gmt_fp):\n",
    "    with open(gmt_fp) as gmt:\n",
    "        gs_ls = gmt.readlines()\n",
    "    elem = [x.split(\"\\t\") for x in gs_ls]\n",
    "    gs_names = [x[0] for x in elem]\n",
    "    gs_list = [x[2:] for x in elem]\n",
    "    gs_list = [[re.sub(\"\\n$\", \"\", x) for x in gs] for gs in gs_list]\n",
    "    gs_dict = dict(zip(gs_names, gs_list))\n",
    "    return(gs_dict)"
   ]
  },
  {
   "cell_type": "code",
   "execution_count": 35,
   "id": "33cac6ed-f3db-4811-9849-125f1840ef21",
   "metadata": {},
   "outputs": [],
   "source": [
    "def add_description_gmt(gs_dict, description = None):\n",
    "    names = [*gs_dict.keys()]\n",
    "    gs_list = [*gs_dict.values()]\n",
    "    if description is None:\n",
    "        description_list = np.repeat(description, len(names))\n",
    "    else:\n",
    "        description_list = description\n",
    "    res_dict = {names[i]: {'description':description_list[i], 'features':gs_list[i]} for i in range(len(names))}\n",
    "    return res_dict"
   ]
  },
  {
   "cell_type": "code",
   "execution_count": 36,
   "id": "fc7cb499-55d6-46d1-a089-6fd8b8d7d975",
   "metadata": {},
   "outputs": [],
   "source": [
    "gs_description = pd.read_csv(\"./data/hallmark_gs_descriptions.csv\")"
   ]
  },
  {
   "cell_type": "code",
   "execution_count": 37,
   "id": "58fbce39-9a3c-4a89-b8f0-0274258efe17",
   "metadata": {},
   "outputs": [],
   "source": [
    "desc_dict = dict(zip(gs_description['gs_name'], gs_description['gs_description']))"
   ]
  },
  {
   "cell_type": "code",
   "execution_count": 38,
   "id": "21802245-22af-4808-827b-894952bdebfb",
   "metadata": {},
   "outputs": [],
   "source": [
    "# read in all gene sets and merge into one master list\n",
    "hallmark_fp = \"./data/h.all.v7.5.1.symbols.gmt\"\n",
    "all_gs =  fmt_gmt(hallmark_fp)\n",
    "desc_list = [desc_dict[x] for x in all_gs.keys()]\n",
    "all_gs = add_description_gmt(all_gs, desc_list)"
   ]
  },
  {
   "cell_type": "markdown",
   "id": "d3a2af39-4c2a-4a61-87d0-4b2c8bef0357",
   "metadata": {},
   "source": [
    "### Aggregate"
   ]
  },
  {
   "cell_type": "code",
   "execution_count": 39,
   "id": "0199d4c6-44b5-434a-a270-f11e47c7e6f7",
   "metadata": {},
   "outputs": [],
   "source": [
    "all_gs.update(custom_gs_dict) # add custom geneset"
   ]
  },
  {
   "cell_type": "code",
   "execution_count": 40,
   "id": "feb24f63-7caa-4d58-96ea-ab6cb63e33c7",
   "metadata": {},
   "outputs": [
    {
     "data": {
      "text/plain": [
       "dict_keys(['HALLMARK_TNFA_SIGNALING_VIA_NFKB', 'HALLMARK_HYPOXIA', 'HALLMARK_CHOLESTEROL_HOMEOSTASIS', 'HALLMARK_MITOTIC_SPINDLE', 'HALLMARK_WNT_BETA_CATENIN_SIGNALING', 'HALLMARK_TGF_BETA_SIGNALING', 'HALLMARK_IL6_JAK_STAT3_SIGNALING', 'HALLMARK_DNA_REPAIR', 'HALLMARK_G2M_CHECKPOINT', 'HALLMARK_APOPTOSIS', 'HALLMARK_NOTCH_SIGNALING', 'HALLMARK_ADIPOGENESIS', 'HALLMARK_ESTROGEN_RESPONSE_EARLY', 'HALLMARK_ESTROGEN_RESPONSE_LATE', 'HALLMARK_ANDROGEN_RESPONSE', 'HALLMARK_MYOGENESIS', 'HALLMARK_PROTEIN_SECRETION', 'HALLMARK_INTERFERON_ALPHA_RESPONSE', 'HALLMARK_INTERFERON_GAMMA_RESPONSE', 'HALLMARK_APICAL_JUNCTION', 'HALLMARK_APICAL_SURFACE', 'HALLMARK_HEDGEHOG_SIGNALING', 'HALLMARK_COMPLEMENT', 'HALLMARK_UNFOLDED_PROTEIN_RESPONSE', 'HALLMARK_PI3K_AKT_MTOR_SIGNALING', 'HALLMARK_MTORC1_SIGNALING', 'HALLMARK_E2F_TARGETS', 'HALLMARK_MYC_TARGETS_V1', 'HALLMARK_MYC_TARGETS_V2', 'HALLMARK_EPITHELIAL_MESENCHYMAL_TRANSITION', 'HALLMARK_INFLAMMATORY_RESPONSE', 'HALLMARK_XENOBIOTIC_METABOLISM', 'HALLMARK_FATTY_ACID_METABOLISM', 'HALLMARK_OXIDATIVE_PHOSPHORYLATION', 'HALLMARK_GLYCOLYSIS', 'HALLMARK_REACTIVE_OXYGEN_SPECIES_PATHWAY', 'HALLMARK_P53_PATHWAY', 'HALLMARK_UV_RESPONSE_UP', 'HALLMARK_UV_RESPONSE_DN', 'HALLMARK_ANGIOGENESIS', 'HALLMARK_HEME_METABOLISM', 'HALLMARK_COAGULATION', 'HALLMARK_IL2_STAT5_SIGNALING', 'HALLMARK_BILE_ACID_METABOLISM', 'HALLMARK_PEROXISOME', 'HALLMARK_ALLOGRAFT_REJECTION', 'HALLMARK_SPERMATOGENESIS', 'HALLMARK_KRAS_SIGNALING_UP', 'HALLMARK_KRAS_SIGNALING_DN', 'HALLMARK_PANCREAS_BETA_CELLS', 'Bush 2017: BT20 Bor Down', 'Bush 2017: BT20 Bor Up', 'Bush 2017: U87 Bor Down', 'Bush 2017: U87 Bor Up', 'Bush 2017: U87 Ixa Down', 'Bush 2017: U87 Ixa Up', 'Chapman 2018: Bor/Len 7 gene signature', 'Mao 2020: 26S Proteasome and associated proteins', 'Ubels 2020: Bor benefit signature', 'Jubb 2016: Macrophage Dex Down; any timepoint', 'Jubb 2016: Macrophage Dex Up; any timepoint', 'Cao 2018: A549 Dex Decreasing', 'Cao 2018: A549 Dex Increasing', 'McDowell 2018: A549 Dex Down', 'McDowell 2018: A549 Dex Up', 'Park 2019: PBC Dex Down', 'Park 2019: PBC Dex Up', 'Park 2019: LCL Dex Down', 'Park 2019: LCL Dex Up', 'Penmari 2020: OAC Dex Down', 'Penmari 2020: OAC Dex Up', 'Ansari 2022: Dex-LPS vs LPS Down', 'Ansari 2022: Dex-LPS vs LPS Up', 'Kathirivel 2022: TM Dex 16h Down', 'Kathirivel 2022: TM Dex Early Down', 'Kathirivel 2022: TM Dex Early Up', 'Kathirivel 2022: TM Dex 16h Up', 'Kathirivel 2022: TM Dex 7d Down', 'Kathirivel 2022: TM Dex Late Down', 'Kathirivel 2022: TM Dex Late Up', 'Kathirivel 2022: TM Dex 7d Up', 'GO: Cellular response to Dex', 'Zhu 2011: shCRBN Down', 'Zhu 2011: shCRBN Up', 'Zhu 2011: Len Down', 'Zhu 2011: Len Up', 'Zhu 2019: XG1 Up vs XG1 Len Res', 'Zhu 2019: XG1 Down vs XG1 Len Res', 'Wu 2022: SUDHL1 Len Res Down vs SUDHL1', 'Wu 2022: SUDHL1 Len Res Up vs SUDHL1'])"
      ]
     },
     "execution_count": 40,
     "metadata": {},
     "output_type": "execute_result"
    }
   ],
   "source": [
    "all_gs.keys()"
   ]
  },
  {
   "cell_type": "markdown",
   "id": "9fd6c399-e186-4730-bb75-011fa3291ebf",
   "metadata": {},
   "source": [
    "### Save pathway dictionary"
   ]
  },
  {
   "cell_type": "code",
   "execution_count": 41,
   "id": "ef9b410a-c0b3-45ce-b612-ecc8592a437b",
   "metadata": {},
   "outputs": [],
   "source": [
    "handle_col = open('data/custom_gs_dict.pkl', 'wb')\n",
    "pickle.dump(all_gs, handle_col, protocol=pickle.HIGHEST_PROTOCOL)\n",
    "handle_col.close()"
   ]
  },
  {
   "cell_type": "markdown",
   "id": "e32b602f-a39a-4014-8a21-640d7a9a6cfc",
   "metadata": {},
   "source": [
    "## Environment"
   ]
  },
  {
   "cell_type": "code",
   "execution_count": 42,
   "id": "28f15a7a-0fcf-4436-b2be-60eddc565785",
   "metadata": {},
   "outputs": [
    {
     "data": {
      "text/html": [
       "<details>\n",
       "<summary>Click to view session information</summary>\n",
       "<pre>\n",
       "-----\n",
       "hisepy              0.3.0\n",
       "numpy               1.21.6\n",
       "pandas              1.3.5\n",
       "session_info        1.0.0\n",
       "-----\n",
       "</pre>\n",
       "<details>\n",
       "<summary>Click to view modules imported as dependencies</summary>\n",
       "<pre>\n",
       "PIL                         8.4.0\n",
       "anndata                     0.8.0\n",
       "anyio                       NA\n",
       "attr                        21.2.0\n",
       "babel                       2.9.1\n",
       "backcall                    0.2.0\n",
       "beatrix_jupyterlab          NA\n",
       "bottleneck                  1.3.2\n",
       "brotli                      NA\n",
       "cachetools                  4.2.4\n",
       "certifi                     2022.12.07\n",
       "cffi                        1.15.0\n",
       "chardet                     4.0.0\n",
       "charset_normalizer          2.0.9\n",
       "cloudpickle                 2.0.0\n",
       "colorama                    0.4.4\n",
       "cryptography                36.0.1\n",
       "cycler                      0.10.0\n",
       "cython_runtime              NA\n",
       "dateutil                    2.8.2\n",
       "debugpy                     1.5.1\n",
       "decorator                   5.1.0\n",
       "defusedxml                  0.7.1\n",
       "entrypoints                 0.3\n",
       "et_xmlfile                  1.1.0\n",
       "google                      NA\n",
       "greenlet                    1.1.2\n",
       "grpc                        1.42.0\n",
       "grpc_gcp                    NA\n",
       "grpc_status                 NA\n",
       "h5py                        3.7.0\n",
       "idna                        3.1\n",
       "importlib_metadata          NA\n",
       "importlib_resources         NA\n",
       "ipykernel                   6.6.0\n",
       "ipython_genutils            0.2.0\n",
       "jedi                        0.18.1\n",
       "jinja2                      3.0.3\n",
       "json5                       NA\n",
       "jsonschema                  4.3.1\n",
       "jupyter_server              1.13.1\n",
       "jupyterlab_server           2.9.0\n",
       "jwt                         2.3.0\n",
       "kiwisolver                  1.3.2\n",
       "markupsafe                  2.1.1\n",
       "matplotlib                  3.5.1\n",
       "matplotlib_inline           NA\n",
       "mpl_toolkits                NA\n",
       "natsort                     8.2.0\n",
       "nbclassic                   NA\n",
       "nbformat                    5.1.3\n",
       "openpyxl                    3.0.10\n",
       "packaging                   21.3\n",
       "parso                       0.8.3\n",
       "pexpect                     4.8.0\n",
       "pickleshare                 0.7.5\n",
       "pkg_resources               NA\n",
       "plotly                      5.11.0\n",
       "prettytable                 2.4.0\n",
       "prometheus_client           NA\n",
       "prompt_toolkit              3.0.24\n",
       "proto                       NA\n",
       "psutil                      5.8.0\n",
       "ptyprocess                  0.7.0\n",
       "pvectorc                    NA\n",
       "pyarrow                     6.0.1\n",
       "pydev_ipython               NA\n",
       "pydevconsole                NA\n",
       "pydevd                      2.6.0\n",
       "pydevd_concurrency_analyser NA\n",
       "pydevd_file_utils           NA\n",
       "pydevd_plugins              NA\n",
       "pydevd_tracing              NA\n",
       "pygments                    2.10.0\n",
       "pyparsing                   3.0.6\n",
       "pyreadr                     0.4.7\n",
       "pyrsistent                  NA\n",
       "pytz                        2021.3\n",
       "requests                    2.26.0\n",
       "scipy                       1.7.3\n",
       "send2trash                  NA\n",
       "six                         1.16.0\n",
       "sniffio                     1.2.0\n",
       "socks                       1.7.1\n",
       "sql                         NA\n",
       "sqlalchemy                  1.4.28\n",
       "sqlparse                    0.4.2\n",
       "storemagic                  NA\n",
       "terminado                   0.12.1\n",
       "tornado                     6.1\n",
       "tqdm                        4.62.3\n",
       "traitlets                   5.1.1\n",
       "typing_extensions           NA\n",
       "unicodedata2                NA\n",
       "urllib3                     1.26.7\n",
       "wcwidth                     0.2.5\n",
       "websocket                   1.2.3\n",
       "xarray                      0.20.2\n",
       "yaml                        6.0\n",
       "zipp                        NA\n",
       "zmq                         22.3.0\n",
       "</pre>\n",
       "</details> <!-- seems like this ends pre, so might as well be explicit -->\n",
       "<pre>\n",
       "-----\n",
       "IPython             7.30.1\n",
       "jupyter_client      7.1.0\n",
       "jupyter_core        4.9.1\n",
       "jupyterlab          3.2.5\n",
       "notebook            6.4.6\n",
       "-----\n",
       "Python 3.7.12 | packaged by conda-forge | (default, Oct 26 2021, 06:08:53) [GCC 9.4.0]\n",
       "Linux-5.15.0-1018-gcp-x86_64-with-debian-bullseye-sid\n",
       "-----\n",
       "Session information updated at 2023-09-07 20:10\n",
       "</pre>\n",
       "</details>"
      ],
      "text/plain": [
       "<IPython.core.display.HTML object>"
      ]
     },
     "execution_count": 42,
     "metadata": {},
     "output_type": "execute_result"
    }
   ],
   "source": [
    "session_info.show()"
   ]
  }
 ],
 "metadata": {
  "kernelspec": {
   "display_name": "Python 3 (ipykernel)",
   "language": "python",
   "name": "python3"
  },
  "language_info": {
   "codemirror_mode": {
    "name": "ipython",
    "version": 3
   },
   "file_extension": ".py",
   "mimetype": "text/x-python",
   "name": "python",
   "nbconvert_exporter": "python",
   "pygments_lexer": "ipython3",
   "version": "3.7.12"
  },
  "toc-autonumbering": false
 },
 "nbformat": 4,
 "nbformat_minor": 5
}
